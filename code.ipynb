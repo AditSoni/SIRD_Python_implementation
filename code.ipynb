{
 "cells": [
  {
   "cell_type": "markdown",
   "metadata": {},
   "source": [
    "# SIRD implementation using Python\n",
    "\n"
   ]
  },
  {
   "cell_type": "code",
   "execution_count": 438,
   "metadata": {},
   "outputs": [],
   "source": [
    "import pandas as pd  \n",
    "import numpy as np\n",
    "import matplotlib.pyplot as plt\n",
    "%matplotlib inline"
   ]
  },
  {
   "cell_type": "code",
   "execution_count": 439,
   "metadata": {},
   "outputs": [],
   "source": [
    "#Loading Dataset \n",
    "df_states = pd.read_csv(\"states.csv\") # data cases in different states\n",
    "df_pop = pd.read_csv(\"3. population_india_census2011.csv\") #population census data"
   ]
  },
  {
   "cell_type": "code",
   "execution_count": 440,
   "metadata": {
    "tags": []
   },
   "outputs": [
    {
     "name": "stdout",
     "output_type": "stream",
     "text": [
      "The Population of Goa is 1458545\n"
     ]
    }
   ],
   "source": [
    "# Storing population of state\n",
    "state='Goa' #change the country/state/district/city according to what name it \n",
    "                  # has in the dataset\n",
    "#grabbing out the population of the state from pupulation census data\n",
    "N = df_pop[df_pop[\"State / Union Territory\"] == state]['Population'].tolist()[0]\n",
    "print('The Population of {0} is {1}'.format(state,int(N)))"
   ]
  },
  {
   "cell_type": "code",
   "execution_count": 441,
   "metadata": {},
   "outputs": [
    {
     "data": {
      "text/html": [
       "<div>\n",
       "<style scoped>\n",
       "    .dataframe tbody tr th:only-of-type {\n",
       "        vertical-align: middle;\n",
       "    }\n",
       "\n",
       "    .dataframe tbody tr th {\n",
       "        vertical-align: top;\n",
       "    }\n",
       "\n",
       "    .dataframe thead th {\n",
       "        text-align: right;\n",
       "    }\n",
       "</style>\n",
       "<table border=\"1\" class=\"dataframe\">\n",
       "  <thead>\n",
       "    <tr style=\"text-align: right;\">\n",
       "      <th></th>\n",
       "      <th>Date</th>\n",
       "      <th>Confirmed</th>\n",
       "      <th>Recovered</th>\n",
       "      <th>Deceased</th>\n",
       "      <th>Other</th>\n",
       "      <th>Tested</th>\n",
       "    </tr>\n",
       "  </thead>\n",
       "  <tbody>\n",
       "    <tr>\n",
       "      <th>0</th>\n",
       "      <td>2020-03-25</td>\n",
       "      <td>3</td>\n",
       "      <td>0</td>\n",
       "      <td>0</td>\n",
       "      <td>0</td>\n",
       "      <td>0.0</td>\n",
       "    </tr>\n",
       "    <tr>\n",
       "      <th>1</th>\n",
       "      <td>2020-03-26</td>\n",
       "      <td>3</td>\n",
       "      <td>0</td>\n",
       "      <td>0</td>\n",
       "      <td>0</td>\n",
       "      <td>0.0</td>\n",
       "    </tr>\n",
       "    <tr>\n",
       "      <th>2</th>\n",
       "      <td>2020-03-27</td>\n",
       "      <td>3</td>\n",
       "      <td>0</td>\n",
       "      <td>0</td>\n",
       "      <td>0</td>\n",
       "      <td>0.0</td>\n",
       "    </tr>\n",
       "    <tr>\n",
       "      <th>3</th>\n",
       "      <td>2020-03-28</td>\n",
       "      <td>3</td>\n",
       "      <td>0</td>\n",
       "      <td>0</td>\n",
       "      <td>0</td>\n",
       "      <td>0.0</td>\n",
       "    </tr>\n",
       "    <tr>\n",
       "      <th>4</th>\n",
       "      <td>2020-03-29</td>\n",
       "      <td>5</td>\n",
       "      <td>0</td>\n",
       "      <td>0</td>\n",
       "      <td>0</td>\n",
       "      <td>0.0</td>\n",
       "    </tr>\n",
       "    <tr>\n",
       "      <th>...</th>\n",
       "      <td>...</td>\n",
       "      <td>...</td>\n",
       "      <td>...</td>\n",
       "      <td>...</td>\n",
       "      <td>...</td>\n",
       "      <td>...</td>\n",
       "    </tr>\n",
       "    <tr>\n",
       "      <th>187</th>\n",
       "      <td>2020-09-28</td>\n",
       "      <td>32396</td>\n",
       "      <td>27072</td>\n",
       "      <td>407</td>\n",
       "      <td>0</td>\n",
       "      <td>251033.0</td>\n",
       "    </tr>\n",
       "    <tr>\n",
       "      <th>188</th>\n",
       "      <td>2020-09-29</td>\n",
       "      <td>32777</td>\n",
       "      <td>27781</td>\n",
       "      <td>419</td>\n",
       "      <td>0</td>\n",
       "      <td>252783.0</td>\n",
       "    </tr>\n",
       "    <tr>\n",
       "      <th>189</th>\n",
       "      <td>2020-09-30</td>\n",
       "      <td>33418</td>\n",
       "      <td>28125</td>\n",
       "      <td>428</td>\n",
       "      <td>0</td>\n",
       "      <td>254801.0</td>\n",
       "    </tr>\n",
       "    <tr>\n",
       "      <th>190</th>\n",
       "      <td>2020-10-01</td>\n",
       "      <td>33942</td>\n",
       "      <td>28525</td>\n",
       "      <td>440</td>\n",
       "      <td>0</td>\n",
       "      <td>256897.0</td>\n",
       "    </tr>\n",
       "    <tr>\n",
       "      <th>191</th>\n",
       "      <td>2020-10-02</td>\n",
       "      <td>33942</td>\n",
       "      <td>28525</td>\n",
       "      <td>440</td>\n",
       "      <td>0</td>\n",
       "      <td>256897.0</td>\n",
       "    </tr>\n",
       "  </tbody>\n",
       "</table>\n",
       "<p>192 rows × 6 columns</p>\n",
       "</div>"
      ],
      "text/plain": [
       "           Date  Confirmed  Recovered  Deceased  Other    Tested\n",
       "0    2020-03-25          3          0         0      0       0.0\n",
       "1    2020-03-26          3          0         0      0       0.0\n",
       "2    2020-03-27          3          0         0      0       0.0\n",
       "3    2020-03-28          3          0         0      0       0.0\n",
       "4    2020-03-29          5          0         0      0       0.0\n",
       "..          ...        ...        ...       ...    ...       ...\n",
       "187  2020-09-28      32396      27072       407      0  251033.0\n",
       "188  2020-09-29      32777      27781       419      0  252783.0\n",
       "189  2020-09-30      33418      28125       428      0  254801.0\n",
       "190  2020-10-01      33942      28525       440      0  256897.0\n",
       "191  2020-10-02      33942      28525       440      0  256897.0\n",
       "\n",
       "[192 rows x 6 columns]"
      ]
     },
     "execution_count": 441,
     "metadata": {},
     "output_type": "execute_result"
    }
   ],
   "source": [
    "# Performing operations to get the data for State of Maharashtra\n",
    "df_state = df_states[df_states['State']==state].fillna(0)\n",
    "df_state = df_state.reset_index().drop('index',axis=1)\n",
    "df_state = df_state.drop('State',axis=1)\n",
    "df_state"
   ]
  },
  {
   "cell_type": "markdown",
   "metadata": {},
   "source": [
    "## Checking if Total cases are more than  1% of the population\n"
   ]
  },
  {
   "cell_type": "code",
   "execution_count": 442,
   "metadata": {
    "tags": []
   },
   "outputs": [
    {
     "name": "stdout",
     "output_type": "stream",
     "text": [
      "Yes the confirmed cases are more than 1% of the total population (2.327%)\n"
     ]
    }
   ],
   "source": [
    "percent = (df_state['Confirmed'].iloc[len(df_state['Confirmed'])-1] / N ) *100\n",
    "if percent > 1:\n",
    "    print('Yes the confirmed cases are more than 1% of the total population ({0:.3f}%)'.format(percent))\n",
    "else:\n",
    "    print('Yes the confirmed cases are more than 1% of the total population')"
   ]
  },
  {
   "cell_type": "markdown",
   "metadata": {},
   "source": [
    "# Adding Infected,ΔC,ΔD,ΔR,β,δ,γ to dataFrame\n",
    "\n",
    "I(t) = C(t) – [R(t) + D(t)] The number of Infected (aka active cases) \n",
    "\n",
    "ΔC(t) = C(t+1) – C(t) New cases\n",
    "\n",
    "ΔD(t) = D(t+1) – D(t) Daily deaths\n",
    "\n",
    "ΔR(t) = R(t+1) - R(t) Daily recoveries"
   ]
  },
  {
   "cell_type": "markdown",
   "metadata": {},
   "source": [
    "We use the above formulas to calculate the respective variables \n",
    "\n",
    "The calculated values are added as columns to our state extracted data \n",
    "\n",
    "make sure the column names exist and are typed correctly"
   ]
  },
  {
   "cell_type": "code",
   "execution_count": 443,
   "metadata": {},
   "outputs": [],
   "source": [
    "# infected\n",
    "df_state['Infected'] = df_state['Confirmed'] - (df_state[\"Recovered\"] + df_state['Deceased'])\n",
    "\n",
    "# delta recovered,delta Confirmed , Delta Dead calculation and addition to table\n",
    "#diff() just subracts current - previous value and returns it\n",
    "df_state['Delta_C'] = df_state['Confirmed'].diff(-1) * -1 \n",
    "df_state['Delta_D'] = df_state['Deceased'].diff(-1) * -1\n",
    "df_state['Delta_R'] = df_state[\"Recovered\"].diff(-1) * -1\n",
    "\n",
    "# beta,gamma and delta Calculation\n",
    "# for beta if confirmed cases are more than 1% ,we need to use different formula\n",
    "if percent > 1: #if more than 1%\n",
    "    df_state['beta'] = (df_state['Delta_C']/df_state['Infected']) * ( N/(N-df_state['Confirmed']))\n",
    "else :          #if less than 1%\n",
    "    df_state['beta'] = (df_state['Delta_C']/df_state['Infected'])  \n",
    "df_state['gamma'] = df_state['Delta_R']/df_state['Infected']\n",
    "df_state['delta'] = df_state['Delta_D']/df_state['Infected']\n",
    "\n"
   ]
  },
  {
   "cell_type": "markdown",
   "metadata": {},
   "source": [
    "# adding r0 and R\n",
    " r0 = β – (γ + δ)   this is  the (per capita) growth rate per day\n",
    " \n",
    "  R0 = β/(γ + δ)    this is the basic reproductive number"
   ]
  },
  {
   "cell_type": "code",
   "execution_count": 444,
   "metadata": {},
   "outputs": [],
   "source": [
    "df_state['r0'] = df_state['beta'] - ( df_state['gamma'] + df_state['delta'] )\n",
    "df_state['R0'] = df_state['beta'] / ( df_state['gamma'] + df_state['delta'] )\n"
   ]
  },
  {
   "cell_type": "code",
   "execution_count": 445,
   "metadata": {},
   "outputs": [],
   "source": [
    "# replacing infinite values with zero as R0 has division with zero \n",
    "# which resulted in infinte values\n",
    "df_state = df_state.replace([np.inf, -np.inf], np.nan)\n",
    "df_state = df_state.fillna(0)"
   ]
  },
  {
   "cell_type": "code",
   "execution_count": 446,
   "metadata": {},
   "outputs": [
    {
     "data": {
      "text/html": [
       "<div>\n",
       "<style scoped>\n",
       "    .dataframe tbody tr th:only-of-type {\n",
       "        vertical-align: middle;\n",
       "    }\n",
       "\n",
       "    .dataframe tbody tr th {\n",
       "        vertical-align: top;\n",
       "    }\n",
       "\n",
       "    .dataframe thead th {\n",
       "        text-align: right;\n",
       "    }\n",
       "</style>\n",
       "<table border=\"1\" class=\"dataframe\">\n",
       "  <thead>\n",
       "    <tr style=\"text-align: right;\">\n",
       "      <th></th>\n",
       "      <th>Date</th>\n",
       "      <th>Confirmed</th>\n",
       "      <th>Recovered</th>\n",
       "      <th>Deceased</th>\n",
       "      <th>Other</th>\n",
       "      <th>Tested</th>\n",
       "      <th>Infected</th>\n",
       "      <th>Delta_C</th>\n",
       "      <th>Delta_D</th>\n",
       "      <th>Delta_R</th>\n",
       "      <th>beta</th>\n",
       "      <th>gamma</th>\n",
       "      <th>delta</th>\n",
       "      <th>r0</th>\n",
       "      <th>R0</th>\n",
       "    </tr>\n",
       "  </thead>\n",
       "  <tbody>\n",
       "    <tr>\n",
       "      <th>0</th>\n",
       "      <td>2020-03-25</td>\n",
       "      <td>3</td>\n",
       "      <td>0</td>\n",
       "      <td>0</td>\n",
       "      <td>0</td>\n",
       "      <td>0.0</td>\n",
       "      <td>3</td>\n",
       "      <td>-0.0</td>\n",
       "      <td>-0.0</td>\n",
       "      <td>-0.0</td>\n",
       "      <td>-0.000000</td>\n",
       "      <td>-0.0</td>\n",
       "      <td>-0.0</td>\n",
       "      <td>0.000000</td>\n",
       "      <td>0.0</td>\n",
       "    </tr>\n",
       "    <tr>\n",
       "      <th>1</th>\n",
       "      <td>2020-03-26</td>\n",
       "      <td>3</td>\n",
       "      <td>0</td>\n",
       "      <td>0</td>\n",
       "      <td>0</td>\n",
       "      <td>0.0</td>\n",
       "      <td>3</td>\n",
       "      <td>-0.0</td>\n",
       "      <td>-0.0</td>\n",
       "      <td>-0.0</td>\n",
       "      <td>-0.000000</td>\n",
       "      <td>-0.0</td>\n",
       "      <td>-0.0</td>\n",
       "      <td>0.000000</td>\n",
       "      <td>0.0</td>\n",
       "    </tr>\n",
       "    <tr>\n",
       "      <th>2</th>\n",
       "      <td>2020-03-27</td>\n",
       "      <td>3</td>\n",
       "      <td>0</td>\n",
       "      <td>0</td>\n",
       "      <td>0</td>\n",
       "      <td>0.0</td>\n",
       "      <td>3</td>\n",
       "      <td>-0.0</td>\n",
       "      <td>-0.0</td>\n",
       "      <td>-0.0</td>\n",
       "      <td>-0.000000</td>\n",
       "      <td>-0.0</td>\n",
       "      <td>-0.0</td>\n",
       "      <td>0.000000</td>\n",
       "      <td>0.0</td>\n",
       "    </tr>\n",
       "    <tr>\n",
       "      <th>3</th>\n",
       "      <td>2020-03-28</td>\n",
       "      <td>3</td>\n",
       "      <td>0</td>\n",
       "      <td>0</td>\n",
       "      <td>0</td>\n",
       "      <td>0.0</td>\n",
       "      <td>3</td>\n",
       "      <td>2.0</td>\n",
       "      <td>-0.0</td>\n",
       "      <td>-0.0</td>\n",
       "      <td>0.666668</td>\n",
       "      <td>-0.0</td>\n",
       "      <td>-0.0</td>\n",
       "      <td>0.666668</td>\n",
       "      <td>0.0</td>\n",
       "    </tr>\n",
       "    <tr>\n",
       "      <th>4</th>\n",
       "      <td>2020-03-29</td>\n",
       "      <td>5</td>\n",
       "      <td>0</td>\n",
       "      <td>0</td>\n",
       "      <td>0</td>\n",
       "      <td>0.0</td>\n",
       "      <td>5</td>\n",
       "      <td>-0.0</td>\n",
       "      <td>-0.0</td>\n",
       "      <td>-0.0</td>\n",
       "      <td>-0.000000</td>\n",
       "      <td>-0.0</td>\n",
       "      <td>-0.0</td>\n",
       "      <td>0.000000</td>\n",
       "      <td>0.0</td>\n",
       "    </tr>\n",
       "  </tbody>\n",
       "</table>\n",
       "</div>"
      ],
      "text/plain": [
       "         Date  Confirmed  Recovered  Deceased  Other  Tested  Infected  \\\n",
       "0  2020-03-25          3          0         0      0     0.0         3   \n",
       "1  2020-03-26          3          0         0      0     0.0         3   \n",
       "2  2020-03-27          3          0         0      0     0.0         3   \n",
       "3  2020-03-28          3          0         0      0     0.0         3   \n",
       "4  2020-03-29          5          0         0      0     0.0         5   \n",
       "\n",
       "   Delta_C  Delta_D  Delta_R      beta  gamma  delta        r0   R0  \n",
       "0     -0.0     -0.0     -0.0 -0.000000   -0.0   -0.0  0.000000  0.0  \n",
       "1     -0.0     -0.0     -0.0 -0.000000   -0.0   -0.0  0.000000  0.0  \n",
       "2     -0.0     -0.0     -0.0 -0.000000   -0.0   -0.0  0.000000  0.0  \n",
       "3      2.0     -0.0     -0.0  0.666668   -0.0   -0.0  0.666668  0.0  \n",
       "4     -0.0     -0.0     -0.0 -0.000000   -0.0   -0.0  0.000000  0.0  "
      ]
     },
     "execution_count": 446,
     "metadata": {},
     "output_type": "execute_result"
    }
   ],
   "source": [
    "df_state.head()"
   ]
  },
  {
   "cell_type": "markdown",
   "metadata": {},
   "source": [
    "# Saves the data of a particular State \n",
    "\n",
    "The below cell creates a csv file in state data folder"
   ]
  },
  {
   "cell_type": "code",
   "execution_count": 447,
   "metadata": {},
   "outputs": [],
   "source": [
    "df_state.to_csv(\"state data//{0}_data.csv\".format(state),index=False)"
   ]
  },
  {
   "cell_type": "markdown",
   "metadata": {},
   "source": [
    "## Finding the index where total confirmed cases exceed 100 "
   ]
  },
  {
   "cell_type": "code",
   "execution_count": 448,
   "metadata": {},
   "outputs": [
    {
     "name": "stdout",
     "output_type": "stream",
     "text": [
      "The total Confirmed cases exceed 100 for Goa at index  70\n"
     ]
    }
   ],
   "source": [
    "cases = None\n",
    "for i in range(len(df_state['Confirmed'])):\n",
    "    cases = df_state['Confirmed'][i]\n",
    "    if cases > 100:\n",
    "        cases = i\n",
    "        print('The total Confirmed cases exceed 100 for {0} at index '.format(state),cases)\n",
    "        break\n",
    "else:\n",
    "    print('Confirmed Cases dont exceed 100')\n",
    "    print('Need more Data to Continue.....')\n",
    "    raise Exception(\"Sorry,We dont have enough values to run the model\") \n"
   ]
  },
  {
   "cell_type": "markdown",
   "metadata": {},
   "source": [
    "# Smoothing beta gamma and delta.\n",
    "\n",
    "#### As the original data has  noise in it we need to smooth data\n",
    "\n",
    "Smoothing beta and delta with a fraction of 0.1 and \n",
    "gamma with fraction of 0.2\n",
    "\n",
    "\n",
    "The LOWESS fraction controls the smoothness of the curve. For example, if it is 1.0, then the LOWESS curve is a single straight line. In general, the smaller the fraction, the more that LOWESS curve follows individual data points."
   ]
  },
  {
   "cell_type": "code",
   "execution_count": 449,
   "metadata": {},
   "outputs": [],
   "source": [
    "#this is our smoothing Function\n",
    "from statsmodels.nonparametric.smoothers_lowess import lowess\n",
    "def smooth(df,col,fraction):\n",
    "\n",
    "    df_lowess = pd.DataFrame(lowess(df[col],\n",
    "                                 np.arange(len(df[col])), \n",
    "                                 frac=fraction)[:, 1], index=df.index, \n",
    "                                  columns=[col])\n",
    "    return df_lowess"
   ]
  },
  {
   "cell_type": "markdown",
   "metadata": {},
   "source": [
    "we smooth the data only after C(t) exceeds 100 cases and use a constant for the period before, set equal to the first smoothed estimate. \n",
    "\n",
    "For this we look at our data and find out when the cases exceed 100,\n",
    "\n",
    "from that point in time onwards we smooth delta,beta and gamma\n",
    "\n",
    "The points before when Confirmed > 100,are all set to the first smoothed estimate"
   ]
  },
  {
   "cell_type": "code",
   "execution_count": 450,
   "metadata": {},
   "outputs": [],
   "source": [
    "df_sm = df_state.drop(list(range(cases)))\n",
    "df_smooth = smooth(df_sm,'beta',0.1)\n",
    "df_smooth['gamma'] = smooth(df_sm,'gamma',0.2)\n",
    "df_smooth['delta'] = smooth(df_sm,'delta',0.1)\n"
   ]
  },
  {
   "cell_type": "code",
   "execution_count": 451,
   "metadata": {},
   "outputs": [
    {
     "data": {
      "text/html": [
       "<div>\n",
       "<style scoped>\n",
       "    .dataframe tbody tr th:only-of-type {\n",
       "        vertical-align: middle;\n",
       "    }\n",
       "\n",
       "    .dataframe tbody tr th {\n",
       "        vertical-align: top;\n",
       "    }\n",
       "\n",
       "    .dataframe thead th {\n",
       "        text-align: right;\n",
       "    }\n",
       "</style>\n",
       "<table border=\"1\" class=\"dataframe\">\n",
       "  <thead>\n",
       "    <tr style=\"text-align: right;\">\n",
       "      <th></th>\n",
       "      <th>beta</th>\n",
       "      <th>gamma</th>\n",
       "      <th>delta</th>\n",
       "    </tr>\n",
       "  </thead>\n",
       "  <tbody>\n",
       "    <tr>\n",
       "      <th>70</th>\n",
       "      <td>0.251309</td>\n",
       "      <td>-0.001582</td>\n",
       "      <td>0.000000</td>\n",
       "    </tr>\n",
       "    <tr>\n",
       "      <th>71</th>\n",
       "      <td>0.224019</td>\n",
       "      <td>-0.000521</td>\n",
       "      <td>0.000000</td>\n",
       "    </tr>\n",
       "    <tr>\n",
       "      <th>72</th>\n",
       "      <td>0.198688</td>\n",
       "      <td>0.000591</td>\n",
       "      <td>0.000000</td>\n",
       "    </tr>\n",
       "    <tr>\n",
       "      <th>73</th>\n",
       "      <td>0.175060</td>\n",
       "      <td>0.001752</td>\n",
       "      <td>0.000000</td>\n",
       "    </tr>\n",
       "    <tr>\n",
       "      <th>74</th>\n",
       "      <td>0.152567</td>\n",
       "      <td>0.002960</td>\n",
       "      <td>0.000000</td>\n",
       "    </tr>\n",
       "    <tr>\n",
       "      <th>...</th>\n",
       "      <td>...</td>\n",
       "      <td>...</td>\n",
       "      <td>...</td>\n",
       "    </tr>\n",
       "    <tr>\n",
       "      <th>187</th>\n",
       "      <td>0.064985</td>\n",
       "      <td>0.108853</td>\n",
       "      <td>0.001235</td>\n",
       "    </tr>\n",
       "    <tr>\n",
       "      <th>188</th>\n",
       "      <td>0.052060</td>\n",
       "      <td>0.110660</td>\n",
       "      <td>0.001084</td>\n",
       "    </tr>\n",
       "    <tr>\n",
       "      <th>189</th>\n",
       "      <td>0.039479</td>\n",
       "      <td>0.112380</td>\n",
       "      <td>0.000940</td>\n",
       "    </tr>\n",
       "    <tr>\n",
       "      <th>190</th>\n",
       "      <td>0.026685</td>\n",
       "      <td>0.113988</td>\n",
       "      <td>0.000783</td>\n",
       "    </tr>\n",
       "    <tr>\n",
       "      <th>191</th>\n",
       "      <td>0.013297</td>\n",
       "      <td>0.115485</td>\n",
       "      <td>0.000601</td>\n",
       "    </tr>\n",
       "  </tbody>\n",
       "</table>\n",
       "<p>122 rows × 3 columns</p>\n",
       "</div>"
      ],
      "text/plain": [
       "         beta     gamma     delta\n",
       "70   0.251309 -0.001582  0.000000\n",
       "71   0.224019 -0.000521  0.000000\n",
       "72   0.198688  0.000591  0.000000\n",
       "73   0.175060  0.001752  0.000000\n",
       "74   0.152567  0.002960  0.000000\n",
       "..        ...       ...       ...\n",
       "187  0.064985  0.108853  0.001235\n",
       "188  0.052060  0.110660  0.001084\n",
       "189  0.039479  0.112380  0.000940\n",
       "190  0.026685  0.113988  0.000783\n",
       "191  0.013297  0.115485  0.000601\n",
       "\n",
       "[122 rows x 3 columns]"
      ]
     },
     "execution_count": 451,
     "metadata": {},
     "output_type": "execute_result"
    }
   ],
   "source": [
    "#smoothed values of beta gamma and delta\n",
    "df_smooth"
   ]
  },
  {
   "cell_type": "code",
   "execution_count": 452,
   "metadata": {},
   "outputs": [],
   "source": [
    "# before the confirmed cases cross 100\n",
    "# all the values are set  equal to the first smoothed estimate\n",
    "for i in range(-1,-(cases+1),-1):\n",
    "    df_smooth.loc[i] = [df_smooth['beta'][cases],df_smooth['gamma'][cases] ,df_smooth['delta'][cases]]\n",
    "    \n",
    "df_smooth.index = df_smooth.index + cases  # shifting index\n",
    "df_smooth = df_smooth.sort_index()    \n",
    "df_smooth = df_smooth.reset_index()\n",
    "df_smooth = df_smooth.drop('index',axis=1)"
   ]
  },
  {
   "cell_type": "code",
   "execution_count": 453,
   "metadata": {},
   "outputs": [
    {
     "data": {
      "text/html": [
       "<div>\n",
       "<style scoped>\n",
       "    .dataframe tbody tr th:only-of-type {\n",
       "        vertical-align: middle;\n",
       "    }\n",
       "\n",
       "    .dataframe tbody tr th {\n",
       "        vertical-align: top;\n",
       "    }\n",
       "\n",
       "    .dataframe thead th {\n",
       "        text-align: right;\n",
       "    }\n",
       "</style>\n",
       "<table border=\"1\" class=\"dataframe\">\n",
       "  <thead>\n",
       "    <tr style=\"text-align: right;\">\n",
       "      <th></th>\n",
       "      <th>beta</th>\n",
       "      <th>gamma</th>\n",
       "      <th>delta</th>\n",
       "      <th>r0</th>\n",
       "    </tr>\n",
       "  </thead>\n",
       "  <tbody>\n",
       "    <tr>\n",
       "      <th>0</th>\n",
       "      <td>0.251309</td>\n",
       "      <td>-0.001582</td>\n",
       "      <td>0.000000</td>\n",
       "      <td>0.252891</td>\n",
       "    </tr>\n",
       "    <tr>\n",
       "      <th>1</th>\n",
       "      <td>0.251309</td>\n",
       "      <td>-0.001582</td>\n",
       "      <td>0.000000</td>\n",
       "      <td>0.252891</td>\n",
       "    </tr>\n",
       "    <tr>\n",
       "      <th>2</th>\n",
       "      <td>0.251309</td>\n",
       "      <td>-0.001582</td>\n",
       "      <td>0.000000</td>\n",
       "      <td>0.252891</td>\n",
       "    </tr>\n",
       "    <tr>\n",
       "      <th>3</th>\n",
       "      <td>0.251309</td>\n",
       "      <td>-0.001582</td>\n",
       "      <td>0.000000</td>\n",
       "      <td>0.252891</td>\n",
       "    </tr>\n",
       "    <tr>\n",
       "      <th>4</th>\n",
       "      <td>0.251309</td>\n",
       "      <td>-0.001582</td>\n",
       "      <td>0.000000</td>\n",
       "      <td>0.252891</td>\n",
       "    </tr>\n",
       "    <tr>\n",
       "      <th>...</th>\n",
       "      <td>...</td>\n",
       "      <td>...</td>\n",
       "      <td>...</td>\n",
       "      <td>...</td>\n",
       "    </tr>\n",
       "    <tr>\n",
       "      <th>187</th>\n",
       "      <td>0.064985</td>\n",
       "      <td>0.108853</td>\n",
       "      <td>0.001235</td>\n",
       "      <td>-0.045103</td>\n",
       "    </tr>\n",
       "    <tr>\n",
       "      <th>188</th>\n",
       "      <td>0.052060</td>\n",
       "      <td>0.110660</td>\n",
       "      <td>0.001084</td>\n",
       "      <td>-0.059684</td>\n",
       "    </tr>\n",
       "    <tr>\n",
       "      <th>189</th>\n",
       "      <td>0.039479</td>\n",
       "      <td>0.112380</td>\n",
       "      <td>0.000940</td>\n",
       "      <td>-0.073841</td>\n",
       "    </tr>\n",
       "    <tr>\n",
       "      <th>190</th>\n",
       "      <td>0.026685</td>\n",
       "      <td>0.113988</td>\n",
       "      <td>0.000783</td>\n",
       "      <td>-0.088085</td>\n",
       "    </tr>\n",
       "    <tr>\n",
       "      <th>191</th>\n",
       "      <td>0.013297</td>\n",
       "      <td>0.115485</td>\n",
       "      <td>0.000601</td>\n",
       "      <td>-0.102789</td>\n",
       "    </tr>\n",
       "  </tbody>\n",
       "</table>\n",
       "<p>192 rows × 4 columns</p>\n",
       "</div>"
      ],
      "text/plain": [
       "         beta     gamma     delta        r0\n",
       "0    0.251309 -0.001582  0.000000  0.252891\n",
       "1    0.251309 -0.001582  0.000000  0.252891\n",
       "2    0.251309 -0.001582  0.000000  0.252891\n",
       "3    0.251309 -0.001582  0.000000  0.252891\n",
       "4    0.251309 -0.001582  0.000000  0.252891\n",
       "..        ...       ...       ...       ...\n",
       "187  0.064985  0.108853  0.001235 -0.045103\n",
       "188  0.052060  0.110660  0.001084 -0.059684\n",
       "189  0.039479  0.112380  0.000940 -0.073841\n",
       "190  0.026685  0.113988  0.000783 -0.088085\n",
       "191  0.013297  0.115485  0.000601 -0.102789\n",
       "\n",
       "[192 rows x 4 columns]"
      ]
     },
     "execution_count": 453,
     "metadata": {},
     "output_type": "execute_result"
    }
   ],
   "source": [
    "# Adding smoothed r0 and R0 to the smoothed data\n",
    "df_smooth['r0'] = df_smooth['beta'] - df_smooth['delta'] - df_smooth['gamma']\n",
    "df_smooth"
   ]
  },
  {
   "cell_type": "markdown",
   "metadata": {},
   "source": [
    "# Saving smoothed estimates to csv file"
   ]
  },
  {
   "cell_type": "code",
   "execution_count": 454,
   "metadata": {},
   "outputs": [],
   "source": [
    "df_smooth.to_csv(\"state data//{0}_smoothed_data.csv\".format(state),index=False)"
   ]
  },
  {
   "cell_type": "markdown",
   "metadata": {},
   "source": [
    "# The equations on which our model is defined\n",
    "\n",
    "S(t+1) = S – βSI/N\n",
    "\n",
    "I(t+1) = I + βSI/N – γI – δI\n",
    "\n",
    "R(t+1) = R + γI\n",
    "\n",
    "D(t+1) = D + δI\n",
    "\n",
    "S:Susceptible , I:Infected , R:Recovered , D:Deceased"
   ]
  },
  {
   "cell_type": "code",
   "execution_count": 455,
   "metadata": {},
   "outputs": [],
   "source": [
    "#defined model of SIRD\n",
    "def SIRD(S,I,R,D,df_smooth):\n",
    "    s_ , i_ , r_ , d_ = [],[],[],[]\n",
    "    for i in range(len(df_smooth)):\n",
    "        S = S - (df_smooth.loc[i]['beta']*S*I)/N\n",
    "        I = I + ((df_smooth.loc[i]['beta']*S*I)/N) \\\n",
    "             - df_smooth.loc[i]['gamma']*I - df_smooth.loc[i]['delta']*I\n",
    "        R = R + df_smooth.loc[i]['gamma']*I\n",
    "        D = D + df_smooth.loc[i]['delta']*I\n",
    "        s_.append(S)\n",
    "        i_.append(I)\n",
    "        r_.append(R)\n",
    "        d_.append(D)\n",
    "    df = pd.DataFrame(columns=['Susceptible','Confirmed','Infected','Recovered','Deceased'])\n",
    "    df['Susceptible'] = s_\n",
    "    df['Infected']    = i_\n",
    "    df['Recovered']   = r_\n",
    "    df['Deceased']    = d_\n",
    "    df['Confirmed']   = df['Infected'] + df['Recovered'] + df['Deceased']\n",
    "    \n",
    "    return df\n",
    "    \n",
    "    "
   ]
  },
  {
   "cell_type": "markdown",
   "metadata": {},
   "source": [
    "# Defining initial values for our SIRD model\n",
    "### S(0) = N ,D(0)=R(0)=0\n",
    "###  C = I + R + D\n",
    "\n",
    "\n",
    " I(0) must be determined from the data .\n"
   ]
  },
  {
   "cell_type": "code",
   "execution_count": 456,
   "metadata": {},
   "outputs": [],
   "source": [
    "S = N\n",
    "R = 0\n",
    "D = 0"
   ]
  },
  {
   "cell_type": "markdown",
   "metadata": {},
   "source": [
    "# Measure of Model Fit \n",
    "## predR² = 1 – Σ(Y – X)2 / Σ[X – mean(X)]2\n",
    "\n",
    "we use numer = Σ(Y – X)2 and denom = Σ[X – mean(X)]2\n",
    "\n"
   ]
  },
  {
   "cell_type": "code",
   "execution_count": 457,
   "metadata": {},
   "outputs": [],
   "source": [
    "def PredR_sq(df_pred,df_orig,col):\n",
    "    '''col represents the column on which predR_squared will be applied'''\n",
    "    \n",
    "    n = (df_pred[col] - df_orig[col])**2 \n",
    "    numer = n.sum() #summation\n",
    "    mean_x = df_orig[col].mean()\n",
    "    d = (df_orig[col] - mean_x)**2\n",
    "    denom = d.sum() #summation\n",
    "    pred_rsq = 1 - (numer/denom)\n",
    "    \n",
    "    return pred_rsq"
   ]
  },
  {
   "cell_type": "markdown",
   "metadata": {},
   "source": [
    "## For calculation of optimal value of I \n"
   ]
  },
  {
   "cell_type": "code",
   "execution_count": null,
   "metadata": {},
   "outputs": [],
   "source": [
    "\n"
   ]
  },
  {
   "cell_type": "code",
   "execution_count": 458,
   "metadata": {},
   "outputs": [
    {
     "name": "stdout",
     "output_type": "stream",
     "text": [
      "0.997670\n",
      "The closer the value is to 1 the acuurate the value of I is\n"
     ]
    }
   ],
   "source": [
    "# pass in column name on which we need to measure the \n",
    "S = N\n",
    "I = .000012\n",
    "R = 0\n",
    "D = 0\n",
    "df_pred = SIRD(S,I,R,D,df_smooth)\n",
    "print(\"{0:.6f}\".format(PredR_sq(df_pred,df_state,'Confirmed')))\n",
    "print('The closer the value is to 1 the acuurate the value of I is')"
   ]
  },
  {
   "cell_type": "code",
   "execution_count": 459,
   "metadata": {},
   "outputs": [
    {
     "data": {
      "text/html": [
       "<div>\n",
       "<style scoped>\n",
       "    .dataframe tbody tr th:only-of-type {\n",
       "        vertical-align: middle;\n",
       "    }\n",
       "\n",
       "    .dataframe tbody tr th {\n",
       "        vertical-align: top;\n",
       "    }\n",
       "\n",
       "    .dataframe thead th {\n",
       "        text-align: right;\n",
       "    }\n",
       "</style>\n",
       "<table border=\"1\" class=\"dataframe\">\n",
       "  <thead>\n",
       "    <tr style=\"text-align: right;\">\n",
       "      <th></th>\n",
       "      <th>Susceptible</th>\n",
       "      <th>Confirmed</th>\n",
       "      <th>Infected</th>\n",
       "      <th>Recovered</th>\n",
       "      <th>Deceased</th>\n",
       "    </tr>\n",
       "  </thead>\n",
       "  <tbody>\n",
       "    <tr>\n",
       "      <th>0</th>\n",
       "      <td>1.458545e+06</td>\n",
       "      <td>0.000015</td>\n",
       "      <td>0.000015</td>\n",
       "      <td>-2.378955e-08</td>\n",
       "      <td>0.000000</td>\n",
       "    </tr>\n",
       "    <tr>\n",
       "      <th>1</th>\n",
       "      <td>1.458545e+06</td>\n",
       "      <td>0.000019</td>\n",
       "      <td>0.000019</td>\n",
       "      <td>-5.359526e-08</td>\n",
       "      <td>0.000000</td>\n",
       "    </tr>\n",
       "    <tr>\n",
       "      <th>2</th>\n",
       "      <td>1.458545e+06</td>\n",
       "      <td>0.000024</td>\n",
       "      <td>0.000024</td>\n",
       "      <td>-9.093858e-08</td>\n",
       "      <td>0.000000</td>\n",
       "    </tr>\n",
       "    <tr>\n",
       "      <th>3</th>\n",
       "      <td>1.458545e+06</td>\n",
       "      <td>0.000029</td>\n",
       "      <td>0.000030</td>\n",
       "      <td>-1.377257e-07</td>\n",
       "      <td>0.000000</td>\n",
       "    </tr>\n",
       "    <tr>\n",
       "      <th>4</th>\n",
       "      <td>1.458545e+06</td>\n",
       "      <td>0.000037</td>\n",
       "      <td>0.000037</td>\n",
       "      <td>-1.963449e-07</td>\n",
       "      <td>0.000000</td>\n",
       "    </tr>\n",
       "    <tr>\n",
       "      <th>...</th>\n",
       "      <td>...</td>\n",
       "      <td>...</td>\n",
       "      <td>...</td>\n",
       "      <td>...</td>\n",
       "      <td>...</td>\n",
       "    </tr>\n",
       "    <tr>\n",
       "      <th>187</th>\n",
       "      <td>1.427603e+06</td>\n",
       "      <td>31327.783679</td>\n",
       "      <td>4742.242959</td>\n",
       "      <td>2.619561e+04</td>\n",
       "      <td>389.927442</td>\n",
       "    </tr>\n",
       "    <tr>\n",
       "      <th>188</th>\n",
       "      <td>1.427361e+06</td>\n",
       "      <td>31537.169537</td>\n",
       "      <td>4453.930395</td>\n",
       "      <td>2.668848e+04</td>\n",
       "      <td>394.754686</td>\n",
       "    </tr>\n",
       "    <tr>\n",
       "      <th>189</th>\n",
       "      <td>1.427189e+06</td>\n",
       "      <td>31671.527159</td>\n",
       "      <td>4121.266510</td>\n",
       "      <td>2.715163e+04</td>\n",
       "      <td>398.626978</td>\n",
       "    </tr>\n",
       "    <tr>\n",
       "      <th>190</th>\n",
       "      <td>1.427082e+06</td>\n",
       "      <td>31737.194828</td>\n",
       "      <td>3755.870630</td>\n",
       "      <td>2.757976e+04</td>\n",
       "      <td>401.565969</td>\n",
       "    </tr>\n",
       "    <tr>\n",
       "      <th>191</th>\n",
       "      <td>1.427033e+06</td>\n",
       "      <td>31741.115690</td>\n",
       "      <td>3368.729948</td>\n",
       "      <td>2.796880e+04</td>\n",
       "      <td>403.589487</td>\n",
       "    </tr>\n",
       "  </tbody>\n",
       "</table>\n",
       "<p>192 rows × 5 columns</p>\n",
       "</div>"
      ],
      "text/plain": [
       "      Susceptible     Confirmed     Infected     Recovered    Deceased\n",
       "0    1.458545e+06      0.000015     0.000015 -2.378955e-08    0.000000\n",
       "1    1.458545e+06      0.000019     0.000019 -5.359526e-08    0.000000\n",
       "2    1.458545e+06      0.000024     0.000024 -9.093858e-08    0.000000\n",
       "3    1.458545e+06      0.000029     0.000030 -1.377257e-07    0.000000\n",
       "4    1.458545e+06      0.000037     0.000037 -1.963449e-07    0.000000\n",
       "..            ...           ...          ...           ...         ...\n",
       "187  1.427603e+06  31327.783679  4742.242959  2.619561e+04  389.927442\n",
       "188  1.427361e+06  31537.169537  4453.930395  2.668848e+04  394.754686\n",
       "189  1.427189e+06  31671.527159  4121.266510  2.715163e+04  398.626978\n",
       "190  1.427082e+06  31737.194828  3755.870630  2.757976e+04  401.565969\n",
       "191  1.427033e+06  31741.115690  3368.729948  2.796880e+04  403.589487\n",
       "\n",
       "[192 rows x 5 columns]"
      ]
     },
     "execution_count": 459,
     "metadata": {},
     "output_type": "execute_result"
    }
   ],
   "source": [
    "df_pred"
   ]
  },
  {
   "cell_type": "markdown",
   "metadata": {},
   "source": [
    "# Plots\n",
    "\n",
    "predicted vs Original \n",
    "\n",
    "Scattered are the original datapoints\n",
    "\n",
    "Curves or lines are the predicted datapoints"
   ]
  },
  {
   "cell_type": "markdown",
   "metadata": {},
   "source": [
    "#### Here ax.scatter plots the scatter plot \n",
    "\n",
    "first and second arguements are x and y axis data respectively\n",
    "\n",
    "s represents the size of individual marker\n",
    "\n",
    "#### ax.plot is used to plot the curve of predicted values\n",
    "\n",
    "first and second arguements are x and y axis data\n",
    "\n",
    "linewidth can be modified by changing the value\n",
    "\n",
    "#### xticks are used to control labels on x axis\n",
    "\n",
    "the dates at index in xticks are only displayed as labels\n",
    "\n"
   ]
  },
  {
   "cell_type": "code",
   "execution_count": 460,
   "metadata": {},
   "outputs": [],
   "source": [
    "#creating folders where graphs will be saved \n",
    "import os \n",
    "if os.path.exists('graphs//'):\n",
    "    if os.path.exists('graphs//{0}//'.format(state)):\n",
    "        pass\n",
    "    else:\n",
    "        os.mkdir('graphs//{0}//'.format(state))\n",
    "else :\n",
    "    os.mkdir('graphs//')\n",
    "    os.mkdir('graphs//{0}//'.format(state))\n",
    "    "
   ]
  },
  {
   "cell_type": "code",
   "execution_count": 461,
   "metadata": {},
   "outputs": [
    {
     "data": {
      "text/plain": [
       "[0, 47, 94, 141, 188]"
      ]
     },
     "execution_count": 461,
     "metadata": {},
     "output_type": "execute_result"
    }
   ],
   "source": [
    "# creating 5 equally spaced ticks on x axis\n",
    "last = len(df_state['Confirmed'])\n",
    "xticks = [x*(last//4 -1 ) for x in range(5)]\n",
    "xticks"
   ]
  },
  {
   "cell_type": "code",
   "execution_count": 462,
   "metadata": {},
   "outputs": [
    {
     "data": {
      "image/png": "[encoded data removed]",
      "text/plain": [
       "<Figure size 432x288 with 1 Axes>"
      ]
     },
     "metadata": {
      "needs_background": "light"
     },
     "output_type": "display_data"
    }
   ],
   "source": [
    "#infected\n",
    "fig = plt.figure()\n",
    "ax = fig.add_axes([0,0,1,1])\n",
    "\n",
    "ax.scatter(df_state['Date'],df_state['Infected'],s=5)\n",
    "ax.plot(df_state['Date'],df_pred['Infected'],linewidth=3)\n",
    "ax.set_xticks(xticks)\n",
    "ax.set_title('Infected')\n",
    "plt.savefig('graphs//{0}//Infected.jpg'.format(state),bbox_inches='tight',dpi=200) #uncomment if want to save the graph as image\n",
    "plt.show()\n"
   ]
  },
  {
   "cell_type": "code",
   "execution_count": 463,
   "metadata": {},
   "outputs": [
    {
     "data": {
      "image/png": "[encoded data removed]",
      "text/plain": [
       "<Figure size 432x288 with 1 Axes>"
      ]
     },
     "metadata": {
      "needs_background": "light"
     },
     "output_type": "display_data"
    }
   ],
   "source": [
    "#Deceased\n",
    "fig = plt.figure()\n",
    "ax = fig.add_axes([0,0,1,1])\n",
    "\n",
    "ax.scatter(df_state['Date'],df_state['Deceased'],s=5)\n",
    "ax.plot(df_state['Date'],df_pred['Deceased'],linewidth=3)\n",
    "ax.set_xticks(xticks)\n",
    "ax.set_title('Deceased')\n",
    "plt.savefig('graphs//{0}//Deceased.jpg'.format(state),bbox_inches='tight',dpi=200) #uncomment if want to save the graph as image\n",
    "plt.show()\n"
   ]
  },
  {
   "cell_type": "code",
   "execution_count": 464,
   "metadata": {},
   "outputs": [
    {
     "data": {
      "image/png": "[encoded data removed]",
      "text/plain": [
       "<Figure size 432x288 with 1 Axes>"
      ]
     },
     "metadata": {
      "needs_background": "light"
     },
     "output_type": "display_data"
    }
   ],
   "source": [
    "#Recovered\n",
    "fig = plt.figure()\n",
    "ax = fig.add_axes([0,0,1,1])\n",
    "\n",
    "ax.scatter(df_state['Date'],df_state['Recovered'],s=5)\n",
    "ax.plot(df_state['Date'],df_pred['Recovered'],linewidth=3)\n",
    "ax.set_xticks(xticks)\n",
    "ax.set_title('Recovered')\n",
    "plt.savefig('graphs//{0}//Recovered.jpg'.format(state),bbox_inches='tight',dpi=200) #uncomment if want to save the graph as image\n",
    "plt.show()"
   ]
  },
  {
   "cell_type": "code",
   "execution_count": 465,
   "metadata": {},
   "outputs": [
    {
     "data": {
      "image/png": "[encoded data removed]",
      "text/plain": [
       "<Figure size 432x288 with 1 Axes>"
      ]
     },
     "metadata": {
      "needs_background": "light"
     },
     "output_type": "display_data"
    }
   ],
   "source": [
    "#New Cases deltaC\n",
    "fig = plt.figure()\n",
    "ax = fig.add_axes([0,0,1,1])\n",
    "\n",
    "ax.scatter(df_state['Date'],df_state['Delta_C'],s=5)\n",
    "ax.plot(df_state['Date'],df_pred['Confirmed'].diff(),linewidth=3)\n",
    "ax.set_xticks(xticks)\n",
    "ax.set_title('New Cases ΔC ')\n",
    "plt.savefig('graphs//{0}//New Cases.jpg'.format(state),bbox_inches='tight',dpi=200)\n",
    "plt.show()"
   ]
  },
  {
   "cell_type": "code",
   "execution_count": 466,
   "metadata": {},
   "outputs": [
    {
     "data": {
      "image/png": "[encoded data removed]",
      "text/plain": [
       "<Figure size 432x288 with 1 Axes>"
      ]
     },
     "metadata": {
      "needs_background": "light"
     },
     "output_type": "display_data"
    }
   ],
   "source": [
    "#Daily deaths delta_D\n",
    "fig = plt.figure()\n",
    "ax = fig.add_axes([0,0,1,1])\n",
    "\n",
    "ax.scatter(df_state['Date'],df_state['Delta_D'],s=5)\n",
    "ax.plot(df_state['Date'],df_pred['Deceased'].diff(),linewidth=3)\n",
    "ax.set_xticks(xticks)\n",
    "ax.set_title('Daily Deaths')\n",
    "plt.savefig('graphs//{0}//Daily Deaths.jpg'.format(state),bbox_inches='tight',dpi=200)\n",
    "plt.show()\n"
   ]
  },
  {
   "cell_type": "code",
   "execution_count": 467,
   "metadata": {},
   "outputs": [
    {
     "data": {
      "image/png": "[encoded data removed]",
      "text/plain": [
       "<Figure size 432x288 with 1 Axes>"
      ]
     },
     "metadata": {
      "needs_background": "light"
     },
     "output_type": "display_data"
    }
   ],
   "source": [
    "#Confirmed\n",
    "fig = plt.figure()\n",
    "ax = fig.add_axes([0,0,1,1])\n",
    "\n",
    "ax.scatter(df_state['Date'],df_state['Confirmed'],s=5)\n",
    "ax.plot(df_state['Date'],df_pred['Confirmed'],linewidth=3)\n",
    "ax.set_xticks(xticks)\n",
    "ax.set_title('Confirmed')\n",
    "plt.savefig('graphs//{0}//Confirmed.jpg'.format(state),bbox_inches='tight',dpi=200)\n",
    "plt.show()\n"
   ]
  },
  {
   "cell_type": "code",
   "execution_count": 468,
   "metadata": {},
   "outputs": [
    {
     "data": {
      "image/png": "[encoded data removed]",
      "text/plain": [
       "<Figure size 432x288 with 1 Axes>"
      ]
     },
     "metadata": {
      "needs_background": "light"
     },
     "output_type": "display_data"
    }
   ],
   "source": [
    "#beta\n",
    "fig = plt.figure()\n",
    "ax = fig.add_axes([0,0,1,1])\n",
    "\n",
    "ax.scatter(df_state['Date'],df_state['beta'],s=8,c='g')\n",
    "ax.plot(df_state['Date'],df_smooth['beta'],linewidth=2,c='g')\n",
    "ax.set_xticks(xticks)\n",
    "ax.set_title('Beta(t)')\n",
    "plt.savefig('graphs//{0}//Beta.jpg'.format(state),bbox_inches='tight',dpi=200)\n",
    "plt.show()\n"
   ]
  },
  {
   "cell_type": "code",
   "execution_count": 469,
   "metadata": {},
   "outputs": [
    {
     "data": {
      "image/png": "[encoded data removed]",
      "text/plain": [
       "<Figure size 432x288 with 1 Axes>"
      ]
     },
     "metadata": {
      "needs_background": "light"
     },
     "output_type": "display_data"
    }
   ],
   "source": [
    "#Delta\n",
    "fig = plt.figure()\n",
    "ax = fig.add_axes([0,0,1,1])\n",
    "\n",
    "\n",
    "ax.scatter(df_state['Date'],df_state['delta'],s=8,c='g')\n",
    "ax.plot(df_state['Date'],df_smooth['delta'],linewidth=2,c='g')\n",
    "ax.set_xticks(xticks)\n",
    "ax.set_title('Delta(t)')\n",
    "plt.savefig('graphs//{0}//Delta.jpg'.format(state),bbox_inches='tight',dpi=200)\n",
    "plt.show()\n"
   ]
  },
  {
   "cell_type": "code",
   "execution_count": 470,
   "metadata": {},
   "outputs": [
    {
     "data": {
      "image/png": "[encoded data removed]",
      "text/plain": [
       "<Figure size 432x288 with 1 Axes>"
      ]
     },
     "metadata": {
      "needs_background": "light"
     },
     "output_type": "display_data"
    }
   ],
   "source": [
    "#r0\n",
    "fig = plt.figure()\n",
    "ax = fig.add_axes([0,0,1,1])\n",
    "\n",
    "ax.plot(df_state['Date'],[0]*len(df_smooth['r0']),'--g')\n",
    "ax.plot(df_state['Date'],df_smooth['r0'],linewidth=2,c='g')\n",
    "ax.set_xticks(xticks)\n",
    "ax.set_title('r0')\n",
    "plt.savefig('graphs//{0}//r0.jpg'.format(state),bbox_inches='tight',dpi=200)\n",
    "plt.show()"
   ]
  },
  {
   "cell_type": "markdown",
   "metadata": {},
   "source": [
    "### Extra plots for gamma,R(t) and delta(R,I)"
   ]
  },
  {
   "cell_type": "code",
   "execution_count": 471,
   "metadata": {},
   "outputs": [
    {
     "data": {
      "image/png": "[encoded data removed]",
      "text/plain": [
       "<Figure size 432x288 with 1 Axes>"
      ]
     },
     "metadata": {
      "needs_background": "light"
     },
     "output_type": "display_data"
    }
   ],
   "source": [
    "#Gamma\n",
    "fig = plt.figure()\n",
    "ax = fig.add_axes([0,0,1,1])\n",
    "\n",
    "\n",
    "ax.scatter(df_state['Date'],df_state['gamma'],s=8,c='g')\n",
    "ax.plot(df_state['Date'],df_smooth['gamma'],linewidth=2,c='g')\n",
    "ax.set_xticks(xticks)\n",
    "ax.set_title('Gamma(t)')\n",
    "plt.savefig('graphs//{0}//Gamma.jpg'.format(state),bbox_inches='tight',dpi=200)\n",
    "plt.show()"
   ]
  },
  {
   "cell_type": "code",
   "execution_count": 472,
   "metadata": {},
   "outputs": [
    {
     "data": {
      "image/png": "[encoded data removed]",
      "text/plain": [
       "<Figure size 432x288 with 1 Axes>"
      ]
     },
     "metadata": {
      "needs_background": "light"
     },
     "output_type": "display_data"
    }
   ],
   "source": [
    "# Recovered\n",
    "fig = plt.figure()\n",
    "ax = fig.add_axes([0,0,1,1])\n",
    "\n",
    "ax.scatter(df_state['Date'],df_state['Recovered'],s=5)\n",
    "ax.plot(df_state['Date'],df_pred['Recovered'],linewidth=3)\n",
    "ax.set_xticks(xticks)\n",
    "ax.set_title('Recovered')\n",
    "plt.savefig('graphs//{0}//Recovered.jpg'.format(state),bbox_inches='tight',dpi=200)\n",
    "plt.show()"
   ]
  },
  {
   "cell_type": "code",
   "execution_count": 473,
   "metadata": {},
   "outputs": [
    {
     "data": {
      "image/png": "[encoded data removed]",
      "text/plain": [
       "<Figure size 432x288 with 1 Axes>"
      ]
     },
     "metadata": {
      "needs_background": "light"
     },
     "output_type": "display_data"
    }
   ],
   "source": [
    "#Daily recoveries  deltaR\n",
    "fig = plt.figure()\n",
    "ax = fig.add_axes([0,0,1,1])\n",
    "\n",
    "ax.scatter(df_state['Date'],df_state['Delta_R'],s=5)\n",
    "ax.plot(df_state['Date'],df_pred['Recovered'].diff(),linewidth=3)\n",
    "ax.set_xticks(xticks)\n",
    "ax.set_title('Daily Recoveries ΔR ')\n",
    "plt.savefig('graphs//{0}//Daily Recoveries ΔR.jpg'.format(state),bbox_inches='tight',dpi=200)\n",
    "plt.show()"
   ]
  },
  {
   "cell_type": "code",
   "execution_count": 474,
   "metadata": {},
   "outputs": [
    {
     "data": {
      "image/png": "[encoded data removed]",
      "text/plain": [
       "<Figure size 432x288 with 1 Axes>"
      ]
     },
     "metadata": {
      "needs_background": "light"
     },
     "output_type": "display_data"
    }
   ],
   "source": [
    "#Daily infected  ΔI\n",
    "fig = plt.figure()\n",
    "ax = fig.add_axes([0,0,1,1])\n",
    "\n",
    "ax.scatter(df_state['Date'],df_state['Infected'].diff(),s=5)\n",
    "ax.plot(df_state['Date'],df_pred['Infected'].diff(),linewidth=3)\n",
    "ax.set_xticks(xticks)\n",
    "ax.set_title('Daily infected  ΔI ')\n",
    "plt.savefig('graphs//{0}//Daily infected  ΔI.jpg'.format(state),bbox_inches='tight',dpi=200) \n",
    "plt.show()"
   ]
  },
  {
   "cell_type": "code",
   "execution_count": null,
   "metadata": {},
   "outputs": [],
   "source": []
  }
 ],
 "metadata": {
  "kernelspec": {
   "display_name": "Python 3",
   "language": "python",
   "name": "python3"
  },
  "language_info": {
   "codemirror_mode": {
    "name": "ipython",
    "version": 3
   },
   "file_extension": ".py",
   "mimetype": "text/x-python",
   "name": "python",
   "nbconvert_exporter": "python",
   "pygments_lexer": "ipython3",
   "version": "3.7.8"
  }
 },
 "nbformat": 4,
 "nbformat_minor": 4
}
