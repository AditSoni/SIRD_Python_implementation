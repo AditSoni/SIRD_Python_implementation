{
 "cells": [
  {
   "cell_type": "markdown",
   "metadata": {},
   "source": [
    "# SIRD implementation using Python\n",
    "\n"
   ]
  },
  {
   "cell_type": "code",
   "execution_count": 393,
   "metadata": {},
   "outputs": [],
   "source": [
    "import pandas as pd  \n",
    "import numpy as np\n",
    "import matplotlib.pyplot as plt\n",
    "%matplotlib inline"
   ]
  },
  {
   "cell_type": "code",
   "execution_count": 394,
   "metadata": {},
   "outputs": [],
   "source": [
    "#Loading Dataset \n",
    " \n",
    "df_cumulative1 = pd.read_csv(\"1. State Cumulative Data.csv\") \n",
    "df_cumulative2 = pd.read_csv(\"2. states.csv\") # data cases in different states\n",
    "df_pop = pd.read_csv(\"3. population_india_census2011.csv\") #population census data"
   ]
  },
  {
   "cell_type": "code",
   "execution_count": 395,
   "metadata": {},
   "outputs": [
    {
     "name": "stdout",
     "output_type": "stream",
     "text": [
      "The Population of Maharashtra is 112374333\n"
     ]
    }
   ],
   "source": [
    "# Storing population of state\n",
    "state='Maharashtra' #change the country/state/district/city according to what name it \n",
    "                    # has in the dataset\n",
    "    #grabbing out the population of the state from pupulation census data\n",
    "N = df_pop[df_pop[\"State / Union Territory\"] == state]['Population'][1] \n",
    "print('The Population of {0} is {1}'.format(state,int(N)))"
   ]
  },
  {
   "cell_type": "code",
   "execution_count": 396,
   "metadata": {},
   "outputs": [
    {
     "data": {
      "text/html": [
       "<div>\n",
       "<style scoped>\n",
       "    .dataframe tbody tr th:only-of-type {\n",
       "        vertical-align: middle;\n",
       "    }\n",
       "\n",
       "    .dataframe tbody tr th {\n",
       "        vertical-align: top;\n",
       "    }\n",
       "\n",
       "    .dataframe thead th {\n",
       "        text-align: right;\n",
       "    }\n",
       "</style>\n",
       "<table border=\"1\" class=\"dataframe\">\n",
       "  <thead>\n",
       "    <tr style=\"text-align: right;\">\n",
       "      <th></th>\n",
       "      <th>Date</th>\n",
       "      <th>State</th>\n",
       "      <th>Confirmed</th>\n",
       "      <th>Recovered</th>\n",
       "      <th>Deceased</th>\n",
       "      <th>Other</th>\n",
       "      <th>Tested</th>\n",
       "    </tr>\n",
       "  </thead>\n",
       "  <tbody>\n",
       "    <tr>\n",
       "      <th>0</th>\n",
       "      <td>2020-03-09</td>\n",
       "      <td>Maharashtra</td>\n",
       "      <td>2</td>\n",
       "      <td>0</td>\n",
       "      <td>0</td>\n",
       "      <td>0</td>\n",
       "      <td>0.0</td>\n",
       "    </tr>\n",
       "    <tr>\n",
       "      <th>1</th>\n",
       "      <td>2020-03-10</td>\n",
       "      <td>Maharashtra</td>\n",
       "      <td>5</td>\n",
       "      <td>0</td>\n",
       "      <td>0</td>\n",
       "      <td>0</td>\n",
       "      <td>0.0</td>\n",
       "    </tr>\n",
       "    <tr>\n",
       "      <th>2</th>\n",
       "      <td>2020-03-11</td>\n",
       "      <td>Maharashtra</td>\n",
       "      <td>11</td>\n",
       "      <td>0</td>\n",
       "      <td>0</td>\n",
       "      <td>0</td>\n",
       "      <td>0.0</td>\n",
       "    </tr>\n",
       "    <tr>\n",
       "      <th>3</th>\n",
       "      <td>2020-03-12</td>\n",
       "      <td>Maharashtra</td>\n",
       "      <td>14</td>\n",
       "      <td>0</td>\n",
       "      <td>0</td>\n",
       "      <td>0</td>\n",
       "      <td>0.0</td>\n",
       "    </tr>\n",
       "    <tr>\n",
       "      <th>4</th>\n",
       "      <td>2020-03-13</td>\n",
       "      <td>Maharashtra</td>\n",
       "      <td>17</td>\n",
       "      <td>0</td>\n",
       "      <td>0</td>\n",
       "      <td>0</td>\n",
       "      <td>0.0</td>\n",
       "    </tr>\n",
       "    <tr>\n",
       "      <th>...</th>\n",
       "      <td>...</td>\n",
       "      <td>...</td>\n",
       "      <td>...</td>\n",
       "      <td>...</td>\n",
       "      <td>...</td>\n",
       "      <td>...</td>\n",
       "      <td>...</td>\n",
       "    </tr>\n",
       "    <tr>\n",
       "      <th>158</th>\n",
       "      <td>2020-08-14</td>\n",
       "      <td>Maharashtra</td>\n",
       "      <td>572734</td>\n",
       "      <td>401442</td>\n",
       "      <td>19427</td>\n",
       "      <td>310</td>\n",
       "      <td>3049468.0</td>\n",
       "    </tr>\n",
       "    <tr>\n",
       "      <th>159</th>\n",
       "      <td>2020-08-15</td>\n",
       "      <td>Maharashtra</td>\n",
       "      <td>584754</td>\n",
       "      <td>408286</td>\n",
       "      <td>19749</td>\n",
       "      <td>310</td>\n",
       "      <td>3115716.0</td>\n",
       "    </tr>\n",
       "    <tr>\n",
       "      <th>160</th>\n",
       "      <td>2020-08-16</td>\n",
       "      <td>Maharashtra</td>\n",
       "      <td>595865</td>\n",
       "      <td>417123</td>\n",
       "      <td>20037</td>\n",
       "      <td>310</td>\n",
       "      <td>3165550.0</td>\n",
       "    </tr>\n",
       "    <tr>\n",
       "      <th>161</th>\n",
       "      <td>2020-08-17</td>\n",
       "      <td>Maharashtra</td>\n",
       "      <td>604358</td>\n",
       "      <td>428514</td>\n",
       "      <td>20265</td>\n",
       "      <td>311</td>\n",
       "      <td>3208735.0</td>\n",
       "    </tr>\n",
       "    <tr>\n",
       "      <th>162</th>\n",
       "      <td>2020-08-18</td>\n",
       "      <td>Maharashtra</td>\n",
       "      <td>615477</td>\n",
       "      <td>437870</td>\n",
       "      <td>20687</td>\n",
       "      <td>312</td>\n",
       "      <td>3267625.0</td>\n",
       "    </tr>\n",
       "  </tbody>\n",
       "</table>\n",
       "<p>163 rows × 7 columns</p>\n",
       "</div>"
      ],
      "text/plain": [
       "           Date        State  Confirmed  Recovered  Deceased  Other     Tested\n",
       "0    2020-03-09  Maharashtra          2          0         0      0        0.0\n",
       "1    2020-03-10  Maharashtra          5          0         0      0        0.0\n",
       "2    2020-03-11  Maharashtra         11          0         0      0        0.0\n",
       "3    2020-03-12  Maharashtra         14          0         0      0        0.0\n",
       "4    2020-03-13  Maharashtra         17          0         0      0        0.0\n",
       "..          ...          ...        ...        ...       ...    ...        ...\n",
       "158  2020-08-14  Maharashtra     572734     401442     19427    310  3049468.0\n",
       "159  2020-08-15  Maharashtra     584754     408286     19749    310  3115716.0\n",
       "160  2020-08-16  Maharashtra     595865     417123     20037    310  3165550.0\n",
       "161  2020-08-17  Maharashtra     604358     428514     20265    311  3208735.0\n",
       "162  2020-08-18  Maharashtra     615477     437870     20687    312  3267625.0\n",
       "\n",
       "[163 rows x 7 columns]"
      ]
     },
     "execution_count": 396,
     "metadata": {},
     "output_type": "execute_result"
    }
   ],
   "source": [
    "# Performing operations to get the data for State of Maharashtra\n",
    "df_mh= df_cumulative2[df_cumulative2['State']==state].fillna(0)\n",
    "df_mh = df_mh.reset_index().drop('index',axis=1)\n",
    "df_mh"
   ]
  },
  {
   "cell_type": "markdown",
   "metadata": {},
   "source": [
    "## Checking if Total cases are more than  1% of the population\n"
   ]
  },
  {
   "cell_type": "code",
   "execution_count": 397,
   "metadata": {},
   "outputs": [
    {
     "data": {
      "text/plain": [
       "0.5477024722362535"
      ]
     },
     "execution_count": 397,
     "metadata": {},
     "output_type": "execute_result"
    }
   ],
   "source": [
    "(df_mh['Confirmed'].iloc[162] / N ) *100\n",
    "#as we can see it is only 0.54% of total population"
   ]
  },
  {
   "cell_type": "markdown",
   "metadata": {},
   "source": [
    "# Adding Infected,ΔC,ΔD,ΔR,β,δ,γ to dataFrame\n",
    "\n",
    "I(t) = C(t) – [R(t) + D(t)] The number of Infected (aka active cases) \n",
    "\n",
    "ΔC(t) = C(t+1) – C(t) New cases\n",
    "\n",
    "ΔD(t) = D(t+1) – D(t) Daily deaths\n",
    "\n",
    "ΔR(t) = R(t+1) - R(t) Daily recoveries"
   ]
  },
  {
   "cell_type": "markdown",
   "metadata": {},
   "source": [
    "We use the above formulas to calculate the respective variables \n",
    "\n",
    "The calculated values are added as columns to our state extracted data \n",
    "\n",
    "make sure the column names exist and are typed correctly"
   ]
  },
  {
   "cell_type": "code",
   "execution_count": 398,
   "metadata": {},
   "outputs": [],
   "source": [
    "# infected\n",
    "df_mh['Infected'] = df_mh['Confirmed'] - (df_mh[\"Recovered\"] + df_mh['Deceased'])\n",
    "\n",
    "# delta recovered,delta Confirmed , Delta Dead calculation and addition to table\n",
    "#diff() just subracts current - previous value and returns it\n",
    "df_mh['Delta_C'] = df_mh['Confirmed'].diff(-1) * -1 \n",
    "df_mh['Delta_D'] = df_mh['Deceased'].diff(-1) * -1\n",
    "df_mh['Delta_R'] = df_mh[\"Recovered\"].diff(-1) * -1\n",
    "\n",
    "# beta,gamma and delta Calculation\n",
    "df_mh['beta'] = (df_mh['Delta_C']/df_mh['Infected']) #*( N/(N-df_mh['Confirmed'])) #if more than 1%\n",
    "df_mh['gamma'] = df_mh['Delta_R']/df_mh['Infected']\n",
    "df_mh['delta'] = df_mh['Delta_D']/df_mh['Infected']\n",
    "\n"
   ]
  },
  {
   "cell_type": "code",
   "execution_count": 399,
   "metadata": {},
   "outputs": [
    {
     "data": {
      "text/html": [
       "<div>\n",
       "<style scoped>\n",
       "    .dataframe tbody tr th:only-of-type {\n",
       "        vertical-align: middle;\n",
       "    }\n",
       "\n",
       "    .dataframe tbody tr th {\n",
       "        vertical-align: top;\n",
       "    }\n",
       "\n",
       "    .dataframe thead th {\n",
       "        text-align: right;\n",
       "    }\n",
       "</style>\n",
       "<table border=\"1\" class=\"dataframe\">\n",
       "  <thead>\n",
       "    <tr style=\"text-align: right;\">\n",
       "      <th></th>\n",
       "      <th>Date</th>\n",
       "      <th>State</th>\n",
       "      <th>Confirmed</th>\n",
       "      <th>Recovered</th>\n",
       "      <th>Deceased</th>\n",
       "      <th>Other</th>\n",
       "      <th>Tested</th>\n",
       "      <th>Infected</th>\n",
       "      <th>Delta_C</th>\n",
       "      <th>Delta_D</th>\n",
       "      <th>Delta_R</th>\n",
       "      <th>beta</th>\n",
       "      <th>gamma</th>\n",
       "      <th>delta</th>\n",
       "    </tr>\n",
       "  </thead>\n",
       "  <tbody>\n",
       "    <tr>\n",
       "      <th>0</th>\n",
       "      <td>2020-03-09</td>\n",
       "      <td>Maharashtra</td>\n",
       "      <td>2</td>\n",
       "      <td>0</td>\n",
       "      <td>0</td>\n",
       "      <td>0</td>\n",
       "      <td>0.0</td>\n",
       "      <td>2</td>\n",
       "      <td>3.0</td>\n",
       "      <td>-0.0</td>\n",
       "      <td>-0.0</td>\n",
       "      <td>1.500000</td>\n",
       "      <td>-0.000000</td>\n",
       "      <td>-0.000000</td>\n",
       "    </tr>\n",
       "    <tr>\n",
       "      <th>1</th>\n",
       "      <td>2020-03-10</td>\n",
       "      <td>Maharashtra</td>\n",
       "      <td>5</td>\n",
       "      <td>0</td>\n",
       "      <td>0</td>\n",
       "      <td>0</td>\n",
       "      <td>0.0</td>\n",
       "      <td>5</td>\n",
       "      <td>6.0</td>\n",
       "      <td>-0.0</td>\n",
       "      <td>-0.0</td>\n",
       "      <td>1.200000</td>\n",
       "      <td>-0.000000</td>\n",
       "      <td>-0.000000</td>\n",
       "    </tr>\n",
       "    <tr>\n",
       "      <th>2</th>\n",
       "      <td>2020-03-11</td>\n",
       "      <td>Maharashtra</td>\n",
       "      <td>11</td>\n",
       "      <td>0</td>\n",
       "      <td>0</td>\n",
       "      <td>0</td>\n",
       "      <td>0.0</td>\n",
       "      <td>11</td>\n",
       "      <td>3.0</td>\n",
       "      <td>-0.0</td>\n",
       "      <td>-0.0</td>\n",
       "      <td>0.272727</td>\n",
       "      <td>-0.000000</td>\n",
       "      <td>-0.000000</td>\n",
       "    </tr>\n",
       "    <tr>\n",
       "      <th>3</th>\n",
       "      <td>2020-03-12</td>\n",
       "      <td>Maharashtra</td>\n",
       "      <td>14</td>\n",
       "      <td>0</td>\n",
       "      <td>0</td>\n",
       "      <td>0</td>\n",
       "      <td>0.0</td>\n",
       "      <td>14</td>\n",
       "      <td>3.0</td>\n",
       "      <td>-0.0</td>\n",
       "      <td>-0.0</td>\n",
       "      <td>0.214286</td>\n",
       "      <td>-0.000000</td>\n",
       "      <td>-0.000000</td>\n",
       "    </tr>\n",
       "    <tr>\n",
       "      <th>4</th>\n",
       "      <td>2020-03-13</td>\n",
       "      <td>Maharashtra</td>\n",
       "      <td>17</td>\n",
       "      <td>0</td>\n",
       "      <td>0</td>\n",
       "      <td>0</td>\n",
       "      <td>0.0</td>\n",
       "      <td>17</td>\n",
       "      <td>9.0</td>\n",
       "      <td>-0.0</td>\n",
       "      <td>-0.0</td>\n",
       "      <td>0.529412</td>\n",
       "      <td>-0.000000</td>\n",
       "      <td>-0.000000</td>\n",
       "    </tr>\n",
       "    <tr>\n",
       "      <th>...</th>\n",
       "      <td>...</td>\n",
       "      <td>...</td>\n",
       "      <td>...</td>\n",
       "      <td>...</td>\n",
       "      <td>...</td>\n",
       "      <td>...</td>\n",
       "      <td>...</td>\n",
       "      <td>...</td>\n",
       "      <td>...</td>\n",
       "      <td>...</td>\n",
       "      <td>...</td>\n",
       "      <td>...</td>\n",
       "      <td>...</td>\n",
       "      <td>...</td>\n",
       "    </tr>\n",
       "    <tr>\n",
       "      <th>158</th>\n",
       "      <td>2020-08-14</td>\n",
       "      <td>Maharashtra</td>\n",
       "      <td>572734</td>\n",
       "      <td>401442</td>\n",
       "      <td>19427</td>\n",
       "      <td>310</td>\n",
       "      <td>3049468.0</td>\n",
       "      <td>151865</td>\n",
       "      <td>12020.0</td>\n",
       "      <td>322.0</td>\n",
       "      <td>6844.0</td>\n",
       "      <td>0.079149</td>\n",
       "      <td>0.045066</td>\n",
       "      <td>0.002120</td>\n",
       "    </tr>\n",
       "    <tr>\n",
       "      <th>159</th>\n",
       "      <td>2020-08-15</td>\n",
       "      <td>Maharashtra</td>\n",
       "      <td>584754</td>\n",
       "      <td>408286</td>\n",
       "      <td>19749</td>\n",
       "      <td>310</td>\n",
       "      <td>3115716.0</td>\n",
       "      <td>156719</td>\n",
       "      <td>11111.0</td>\n",
       "      <td>288.0</td>\n",
       "      <td>8837.0</td>\n",
       "      <td>0.070898</td>\n",
       "      <td>0.056388</td>\n",
       "      <td>0.001838</td>\n",
       "    </tr>\n",
       "    <tr>\n",
       "      <th>160</th>\n",
       "      <td>2020-08-16</td>\n",
       "      <td>Maharashtra</td>\n",
       "      <td>595865</td>\n",
       "      <td>417123</td>\n",
       "      <td>20037</td>\n",
       "      <td>310</td>\n",
       "      <td>3165550.0</td>\n",
       "      <td>158705</td>\n",
       "      <td>8493.0</td>\n",
       "      <td>228.0</td>\n",
       "      <td>11391.0</td>\n",
       "      <td>0.053514</td>\n",
       "      <td>0.071775</td>\n",
       "      <td>0.001437</td>\n",
       "    </tr>\n",
       "    <tr>\n",
       "      <th>161</th>\n",
       "      <td>2020-08-17</td>\n",
       "      <td>Maharashtra</td>\n",
       "      <td>604358</td>\n",
       "      <td>428514</td>\n",
       "      <td>20265</td>\n",
       "      <td>311</td>\n",
       "      <td>3208735.0</td>\n",
       "      <td>155579</td>\n",
       "      <td>11119.0</td>\n",
       "      <td>422.0</td>\n",
       "      <td>9356.0</td>\n",
       "      <td>0.071469</td>\n",
       "      <td>0.060137</td>\n",
       "      <td>0.002712</td>\n",
       "    </tr>\n",
       "    <tr>\n",
       "      <th>162</th>\n",
       "      <td>2020-08-18</td>\n",
       "      <td>Maharashtra</td>\n",
       "      <td>615477</td>\n",
       "      <td>437870</td>\n",
       "      <td>20687</td>\n",
       "      <td>312</td>\n",
       "      <td>3267625.0</td>\n",
       "      <td>156920</td>\n",
       "      <td>NaN</td>\n",
       "      <td>NaN</td>\n",
       "      <td>NaN</td>\n",
       "      <td>NaN</td>\n",
       "      <td>NaN</td>\n",
       "      <td>NaN</td>\n",
       "    </tr>\n",
       "  </tbody>\n",
       "</table>\n",
       "<p>163 rows × 14 columns</p>\n",
       "</div>"
      ],
      "text/plain": [
       "           Date        State  Confirmed  Recovered  Deceased  Other  \\\n",
       "0    2020-03-09  Maharashtra          2          0         0      0   \n",
       "1    2020-03-10  Maharashtra          5          0         0      0   \n",
       "2    2020-03-11  Maharashtra         11          0         0      0   \n",
       "3    2020-03-12  Maharashtra         14          0         0      0   \n",
       "4    2020-03-13  Maharashtra         17          0         0      0   \n",
       "..          ...          ...        ...        ...       ...    ...   \n",
       "158  2020-08-14  Maharashtra     572734     401442     19427    310   \n",
       "159  2020-08-15  Maharashtra     584754     408286     19749    310   \n",
       "160  2020-08-16  Maharashtra     595865     417123     20037    310   \n",
       "161  2020-08-17  Maharashtra     604358     428514     20265    311   \n",
       "162  2020-08-18  Maharashtra     615477     437870     20687    312   \n",
       "\n",
       "        Tested  Infected  Delta_C  Delta_D  Delta_R      beta     gamma  \\\n",
       "0          0.0         2      3.0     -0.0     -0.0  1.500000 -0.000000   \n",
       "1          0.0         5      6.0     -0.0     -0.0  1.200000 -0.000000   \n",
       "2          0.0        11      3.0     -0.0     -0.0  0.272727 -0.000000   \n",
       "3          0.0        14      3.0     -0.0     -0.0  0.214286 -0.000000   \n",
       "4          0.0        17      9.0     -0.0     -0.0  0.529412 -0.000000   \n",
       "..         ...       ...      ...      ...      ...       ...       ...   \n",
       "158  3049468.0    151865  12020.0    322.0   6844.0  0.079149  0.045066   \n",
       "159  3115716.0    156719  11111.0    288.0   8837.0  0.070898  0.056388   \n",
       "160  3165550.0    158705   8493.0    228.0  11391.0  0.053514  0.071775   \n",
       "161  3208735.0    155579  11119.0    422.0   9356.0  0.071469  0.060137   \n",
       "162  3267625.0    156920      NaN      NaN      NaN       NaN       NaN   \n",
       "\n",
       "        delta  \n",
       "0   -0.000000  \n",
       "1   -0.000000  \n",
       "2   -0.000000  \n",
       "3   -0.000000  \n",
       "4   -0.000000  \n",
       "..        ...  \n",
       "158  0.002120  \n",
       "159  0.001838  \n",
       "160  0.001437  \n",
       "161  0.002712  \n",
       "162       NaN  \n",
       "\n",
       "[163 rows x 14 columns]"
      ]
     },
     "execution_count": 399,
     "metadata": {},
     "output_type": "execute_result"
    }
   ],
   "source": [
    "df_mh"
   ]
  },
  {
   "cell_type": "markdown",
   "metadata": {},
   "source": [
    "# adding r0 and R\n",
    " r0 = β – (γ + δ)   this is  the (per capita) growth rate per day\n",
    " \n",
    "  R0 = β/(γ + δ)    this is the basic reproductive number"
   ]
  },
  {
   "cell_type": "code",
   "execution_count": 400,
   "metadata": {},
   "outputs": [],
   "source": [
    "df_mh['r0'] = df_mh['beta'] - (df_mh['gamma'] + df_mh['delta'])\n",
    "df_mh['R0'] = df_mh['beta'] / (df_mh['gamma'] + df_mh['delta'])\n"
   ]
  },
  {
   "cell_type": "code",
   "execution_count": 401,
   "metadata": {},
   "outputs": [],
   "source": [
    "# replacing infinite values with zero as R0 has division with zero \n",
    "# which resulted in infinte values\n",
    "df_mh = df_mh.replace([np.inf, -np.inf], np.nan)\n",
    "df_mh = df_mh.fillna(0)"
   ]
  },
  {
   "cell_type": "code",
   "execution_count": 402,
   "metadata": {},
   "outputs": [
    {
     "data": {
      "text/html": [
       "<div>\n",
       "<style scoped>\n",
       "    .dataframe tbody tr th:only-of-type {\n",
       "        vertical-align: middle;\n",
       "    }\n",
       "\n",
       "    .dataframe tbody tr th {\n",
       "        vertical-align: top;\n",
       "    }\n",
       "\n",
       "    .dataframe thead th {\n",
       "        text-align: right;\n",
       "    }\n",
       "</style>\n",
       "<table border=\"1\" class=\"dataframe\">\n",
       "  <thead>\n",
       "    <tr style=\"text-align: right;\">\n",
       "      <th></th>\n",
       "      <th>Date</th>\n",
       "      <th>State</th>\n",
       "      <th>Confirmed</th>\n",
       "      <th>Recovered</th>\n",
       "      <th>Deceased</th>\n",
       "      <th>Other</th>\n",
       "      <th>Tested</th>\n",
       "      <th>Infected</th>\n",
       "      <th>Delta_C</th>\n",
       "      <th>Delta_D</th>\n",
       "      <th>Delta_R</th>\n",
       "      <th>beta</th>\n",
       "      <th>gamma</th>\n",
       "      <th>delta</th>\n",
       "      <th>r0</th>\n",
       "      <th>R0</th>\n",
       "    </tr>\n",
       "  </thead>\n",
       "  <tbody>\n",
       "    <tr>\n",
       "      <th>0</th>\n",
       "      <td>2020-03-09</td>\n",
       "      <td>Maharashtra</td>\n",
       "      <td>2</td>\n",
       "      <td>0</td>\n",
       "      <td>0</td>\n",
       "      <td>0</td>\n",
       "      <td>0.0</td>\n",
       "      <td>2</td>\n",
       "      <td>3.0</td>\n",
       "      <td>-0.0</td>\n",
       "      <td>-0.0</td>\n",
       "      <td>1.500000</td>\n",
       "      <td>-0.000000</td>\n",
       "      <td>-0.000000</td>\n",
       "      <td>1.500000</td>\n",
       "      <td>0.000000</td>\n",
       "    </tr>\n",
       "    <tr>\n",
       "      <th>1</th>\n",
       "      <td>2020-03-10</td>\n",
       "      <td>Maharashtra</td>\n",
       "      <td>5</td>\n",
       "      <td>0</td>\n",
       "      <td>0</td>\n",
       "      <td>0</td>\n",
       "      <td>0.0</td>\n",
       "      <td>5</td>\n",
       "      <td>6.0</td>\n",
       "      <td>-0.0</td>\n",
       "      <td>-0.0</td>\n",
       "      <td>1.200000</td>\n",
       "      <td>-0.000000</td>\n",
       "      <td>-0.000000</td>\n",
       "      <td>1.200000</td>\n",
       "      <td>0.000000</td>\n",
       "    </tr>\n",
       "    <tr>\n",
       "      <th>2</th>\n",
       "      <td>2020-03-11</td>\n",
       "      <td>Maharashtra</td>\n",
       "      <td>11</td>\n",
       "      <td>0</td>\n",
       "      <td>0</td>\n",
       "      <td>0</td>\n",
       "      <td>0.0</td>\n",
       "      <td>11</td>\n",
       "      <td>3.0</td>\n",
       "      <td>-0.0</td>\n",
       "      <td>-0.0</td>\n",
       "      <td>0.272727</td>\n",
       "      <td>-0.000000</td>\n",
       "      <td>-0.000000</td>\n",
       "      <td>0.272727</td>\n",
       "      <td>0.000000</td>\n",
       "    </tr>\n",
       "    <tr>\n",
       "      <th>3</th>\n",
       "      <td>2020-03-12</td>\n",
       "      <td>Maharashtra</td>\n",
       "      <td>14</td>\n",
       "      <td>0</td>\n",
       "      <td>0</td>\n",
       "      <td>0</td>\n",
       "      <td>0.0</td>\n",
       "      <td>14</td>\n",
       "      <td>3.0</td>\n",
       "      <td>-0.0</td>\n",
       "      <td>-0.0</td>\n",
       "      <td>0.214286</td>\n",
       "      <td>-0.000000</td>\n",
       "      <td>-0.000000</td>\n",
       "      <td>0.214286</td>\n",
       "      <td>0.000000</td>\n",
       "    </tr>\n",
       "    <tr>\n",
       "      <th>4</th>\n",
       "      <td>2020-03-13</td>\n",
       "      <td>Maharashtra</td>\n",
       "      <td>17</td>\n",
       "      <td>0</td>\n",
       "      <td>0</td>\n",
       "      <td>0</td>\n",
       "      <td>0.0</td>\n",
       "      <td>17</td>\n",
       "      <td>9.0</td>\n",
       "      <td>-0.0</td>\n",
       "      <td>-0.0</td>\n",
       "      <td>0.529412</td>\n",
       "      <td>-0.000000</td>\n",
       "      <td>-0.000000</td>\n",
       "      <td>0.529412</td>\n",
       "      <td>0.000000</td>\n",
       "    </tr>\n",
       "    <tr>\n",
       "      <th>...</th>\n",
       "      <td>...</td>\n",
       "      <td>...</td>\n",
       "      <td>...</td>\n",
       "      <td>...</td>\n",
       "      <td>...</td>\n",
       "      <td>...</td>\n",
       "      <td>...</td>\n",
       "      <td>...</td>\n",
       "      <td>...</td>\n",
       "      <td>...</td>\n",
       "      <td>...</td>\n",
       "      <td>...</td>\n",
       "      <td>...</td>\n",
       "      <td>...</td>\n",
       "      <td>...</td>\n",
       "      <td>...</td>\n",
       "    </tr>\n",
       "    <tr>\n",
       "      <th>158</th>\n",
       "      <td>2020-08-14</td>\n",
       "      <td>Maharashtra</td>\n",
       "      <td>572734</td>\n",
       "      <td>401442</td>\n",
       "      <td>19427</td>\n",
       "      <td>310</td>\n",
       "      <td>3049468.0</td>\n",
       "      <td>151865</td>\n",
       "      <td>12020.0</td>\n",
       "      <td>322.0</td>\n",
       "      <td>6844.0</td>\n",
       "      <td>0.079149</td>\n",
       "      <td>0.045066</td>\n",
       "      <td>0.002120</td>\n",
       "      <td>0.031963</td>\n",
       "      <td>1.677365</td>\n",
       "    </tr>\n",
       "    <tr>\n",
       "      <th>159</th>\n",
       "      <td>2020-08-15</td>\n",
       "      <td>Maharashtra</td>\n",
       "      <td>584754</td>\n",
       "      <td>408286</td>\n",
       "      <td>19749</td>\n",
       "      <td>310</td>\n",
       "      <td>3115716.0</td>\n",
       "      <td>156719</td>\n",
       "      <td>11111.0</td>\n",
       "      <td>288.0</td>\n",
       "      <td>8837.0</td>\n",
       "      <td>0.070898</td>\n",
       "      <td>0.056388</td>\n",
       "      <td>0.001838</td>\n",
       "      <td>0.012672</td>\n",
       "      <td>1.217644</td>\n",
       "    </tr>\n",
       "    <tr>\n",
       "      <th>160</th>\n",
       "      <td>2020-08-16</td>\n",
       "      <td>Maharashtra</td>\n",
       "      <td>595865</td>\n",
       "      <td>417123</td>\n",
       "      <td>20037</td>\n",
       "      <td>310</td>\n",
       "      <td>3165550.0</td>\n",
       "      <td>158705</td>\n",
       "      <td>8493.0</td>\n",
       "      <td>228.0</td>\n",
       "      <td>11391.0</td>\n",
       "      <td>0.053514</td>\n",
       "      <td>0.071775</td>\n",
       "      <td>0.001437</td>\n",
       "      <td>-0.019697</td>\n",
       "      <td>0.730958</td>\n",
       "    </tr>\n",
       "    <tr>\n",
       "      <th>161</th>\n",
       "      <td>2020-08-17</td>\n",
       "      <td>Maharashtra</td>\n",
       "      <td>604358</td>\n",
       "      <td>428514</td>\n",
       "      <td>20265</td>\n",
       "      <td>311</td>\n",
       "      <td>3208735.0</td>\n",
       "      <td>155579</td>\n",
       "      <td>11119.0</td>\n",
       "      <td>422.0</td>\n",
       "      <td>9356.0</td>\n",
       "      <td>0.071469</td>\n",
       "      <td>0.060137</td>\n",
       "      <td>0.002712</td>\n",
       "      <td>0.008619</td>\n",
       "      <td>1.137145</td>\n",
       "    </tr>\n",
       "    <tr>\n",
       "      <th>162</th>\n",
       "      <td>2020-08-18</td>\n",
       "      <td>Maharashtra</td>\n",
       "      <td>615477</td>\n",
       "      <td>437870</td>\n",
       "      <td>20687</td>\n",
       "      <td>312</td>\n",
       "      <td>3267625.0</td>\n",
       "      <td>156920</td>\n",
       "      <td>0.0</td>\n",
       "      <td>0.0</td>\n",
       "      <td>0.0</td>\n",
       "      <td>0.000000</td>\n",
       "      <td>0.000000</td>\n",
       "      <td>0.000000</td>\n",
       "      <td>0.000000</td>\n",
       "      <td>0.000000</td>\n",
       "    </tr>\n",
       "  </tbody>\n",
       "</table>\n",
       "<p>163 rows × 16 columns</p>\n",
       "</div>"
      ],
      "text/plain": [
       "           Date        State  Confirmed  Recovered  Deceased  Other  \\\n",
       "0    2020-03-09  Maharashtra          2          0         0      0   \n",
       "1    2020-03-10  Maharashtra          5          0         0      0   \n",
       "2    2020-03-11  Maharashtra         11          0         0      0   \n",
       "3    2020-03-12  Maharashtra         14          0         0      0   \n",
       "4    2020-03-13  Maharashtra         17          0         0      0   \n",
       "..          ...          ...        ...        ...       ...    ...   \n",
       "158  2020-08-14  Maharashtra     572734     401442     19427    310   \n",
       "159  2020-08-15  Maharashtra     584754     408286     19749    310   \n",
       "160  2020-08-16  Maharashtra     595865     417123     20037    310   \n",
       "161  2020-08-17  Maharashtra     604358     428514     20265    311   \n",
       "162  2020-08-18  Maharashtra     615477     437870     20687    312   \n",
       "\n",
       "        Tested  Infected  Delta_C  Delta_D  Delta_R      beta     gamma  \\\n",
       "0          0.0         2      3.0     -0.0     -0.0  1.500000 -0.000000   \n",
       "1          0.0         5      6.0     -0.0     -0.0  1.200000 -0.000000   \n",
       "2          0.0        11      3.0     -0.0     -0.0  0.272727 -0.000000   \n",
       "3          0.0        14      3.0     -0.0     -0.0  0.214286 -0.000000   \n",
       "4          0.0        17      9.0     -0.0     -0.0  0.529412 -0.000000   \n",
       "..         ...       ...      ...      ...      ...       ...       ...   \n",
       "158  3049468.0    151865  12020.0    322.0   6844.0  0.079149  0.045066   \n",
       "159  3115716.0    156719  11111.0    288.0   8837.0  0.070898  0.056388   \n",
       "160  3165550.0    158705   8493.0    228.0  11391.0  0.053514  0.071775   \n",
       "161  3208735.0    155579  11119.0    422.0   9356.0  0.071469  0.060137   \n",
       "162  3267625.0    156920      0.0      0.0      0.0  0.000000  0.000000   \n",
       "\n",
       "        delta        r0        R0  \n",
       "0   -0.000000  1.500000  0.000000  \n",
       "1   -0.000000  1.200000  0.000000  \n",
       "2   -0.000000  0.272727  0.000000  \n",
       "3   -0.000000  0.214286  0.000000  \n",
       "4   -0.000000  0.529412  0.000000  \n",
       "..        ...       ...       ...  \n",
       "158  0.002120  0.031963  1.677365  \n",
       "159  0.001838  0.012672  1.217644  \n",
       "160  0.001437 -0.019697  0.730958  \n",
       "161  0.002712  0.008619  1.137145  \n",
       "162  0.000000  0.000000  0.000000  \n",
       "\n",
       "[163 rows x 16 columns]"
      ]
     },
     "execution_count": 402,
     "metadata": {},
     "output_type": "execute_result"
    }
   ],
   "source": [
    "df_mh"
   ]
  },
  {
   "cell_type": "markdown",
   "metadata": {},
   "source": [
    "# Smoothing beta gamma and delta.\n",
    "\n",
    "#### As the original data has  noise in it we need to smooth data\n",
    "\n",
    "Smoothing beta and delta with a fraction of 0.1 and \n",
    "gamma with fraction of 0.2\n",
    "\n",
    "\n",
    "The LOWESS fraction controls the smoothness of the curve. For example, if it is 1.0, then the LOWESS curve is a single straight line. In general, the smaller the fraction, the more that LOWESS curve follows individual data points."
   ]
  },
  {
   "cell_type": "code",
   "execution_count": 403,
   "metadata": {},
   "outputs": [],
   "source": [
    "#this is our smoothing Function\n",
    "from statsmodels.nonparametric.smoothers_lowess import lowess\n",
    "def smooth(df,col,fraction):\n",
    "\n",
    "    df_lowess = pd.DataFrame(lowess(df[col],\n",
    "                                 np.arange(len(df[col])), \n",
    "                                 frac=fraction)[:, 1], index=df.index, \n",
    "                                  columns=[col])\n",
    "    return df_lowess"
   ]
  },
  {
   "cell_type": "markdown",
   "metadata": {},
   "source": [
    "we smooth the data only after C(t) exceeds 100 cases and use a constant for the period before, set equal to the first smoothed estimate. \n",
    "\n",
    "For this we look at our data and find out when the cases exceed 100,\n",
    "\n",
    "from that point in time onwards we smooth delta,beta and gamma\n",
    "\n",
    "The points before when Confirmed > 100,are all set to the first smoothed estimate"
   ]
  },
  {
   "cell_type": "code",
   "execution_count": 404,
   "metadata": {},
   "outputs": [],
   "source": [
    "df_sm = df_mh.drop(list(range(15)))\n",
    "df_smooth = smooth(df_sm,'beta',0.1)\n",
    "df_smooth['gamma'] = smooth(df_sm,'gamma',0.2)\n",
    "df_smooth['delta'] = smooth(df_sm,'delta',0.1)\n"
   ]
  },
  {
   "cell_type": "code",
   "execution_count": 405,
   "metadata": {},
   "outputs": [
    {
     "data": {
      "text/html": [
       "<div>\n",
       "<style scoped>\n",
       "    .dataframe tbody tr th:only-of-type {\n",
       "        vertical-align: middle;\n",
       "    }\n",
       "\n",
       "    .dataframe tbody tr th {\n",
       "        vertical-align: top;\n",
       "    }\n",
       "\n",
       "    .dataframe thead th {\n",
       "        text-align: right;\n",
       "    }\n",
       "</style>\n",
       "<table border=\"1\" class=\"dataframe\">\n",
       "  <thead>\n",
       "    <tr style=\"text-align: right;\">\n",
       "      <th></th>\n",
       "      <th>beta</th>\n",
       "      <th>gamma</th>\n",
       "      <th>delta</th>\n",
       "    </tr>\n",
       "  </thead>\n",
       "  <tbody>\n",
       "    <tr>\n",
       "      <th>15</th>\n",
       "      <td>0.150157</td>\n",
       "      <td>-0.000259</td>\n",
       "      <td>0.000127</td>\n",
       "    </tr>\n",
       "    <tr>\n",
       "      <th>16</th>\n",
       "      <td>0.155035</td>\n",
       "      <td>0.000534</td>\n",
       "      <td>0.001640</td>\n",
       "    </tr>\n",
       "    <tr>\n",
       "      <th>17</th>\n",
       "      <td>0.159566</td>\n",
       "      <td>0.001315</td>\n",
       "      <td>0.003150</td>\n",
       "    </tr>\n",
       "    <tr>\n",
       "      <th>18</th>\n",
       "      <td>0.163944</td>\n",
       "      <td>0.002081</td>\n",
       "      <td>0.004660</td>\n",
       "    </tr>\n",
       "    <tr>\n",
       "      <th>19</th>\n",
       "      <td>0.168503</td>\n",
       "      <td>0.002833</td>\n",
       "      <td>0.006179</td>\n",
       "    </tr>\n",
       "    <tr>\n",
       "      <th>...</th>\n",
       "      <td>...</td>\n",
       "      <td>...</td>\n",
       "      <td>...</td>\n",
       "    </tr>\n",
       "    <tr>\n",
       "      <th>158</th>\n",
       "      <td>0.073554</td>\n",
       "      <td>0.065300</td>\n",
       "      <td>0.002048</td>\n",
       "    </tr>\n",
       "    <tr>\n",
       "      <th>159</th>\n",
       "      <td>0.071939</td>\n",
       "      <td>0.065129</td>\n",
       "      <td>0.001980</td>\n",
       "    </tr>\n",
       "    <tr>\n",
       "      <th>160</th>\n",
       "      <td>0.070153</td>\n",
       "      <td>0.064928</td>\n",
       "      <td>0.001905</td>\n",
       "    </tr>\n",
       "    <tr>\n",
       "      <th>161</th>\n",
       "      <td>0.068173</td>\n",
       "      <td>0.064701</td>\n",
       "      <td>0.001822</td>\n",
       "    </tr>\n",
       "    <tr>\n",
       "      <th>162</th>\n",
       "      <td>0.066053</td>\n",
       "      <td>0.064450</td>\n",
       "      <td>0.001734</td>\n",
       "    </tr>\n",
       "  </tbody>\n",
       "</table>\n",
       "<p>148 rows × 3 columns</p>\n",
       "</div>"
      ],
      "text/plain": [
       "         beta     gamma     delta\n",
       "15   0.150157 -0.000259  0.000127\n",
       "16   0.155035  0.000534  0.001640\n",
       "17   0.159566  0.001315  0.003150\n",
       "18   0.163944  0.002081  0.004660\n",
       "19   0.168503  0.002833  0.006179\n",
       "..        ...       ...       ...\n",
       "158  0.073554  0.065300  0.002048\n",
       "159  0.071939  0.065129  0.001980\n",
       "160  0.070153  0.064928  0.001905\n",
       "161  0.068173  0.064701  0.001822\n",
       "162  0.066053  0.064450  0.001734\n",
       "\n",
       "[148 rows x 3 columns]"
      ]
     },
     "execution_count": 405,
     "metadata": {},
     "output_type": "execute_result"
    }
   ],
   "source": [
    "#smoothed values of beta gamma and delta\n",
    "df_smooth"
   ]
  },
  {
   "cell_type": "code",
   "execution_count": 406,
   "metadata": {},
   "outputs": [],
   "source": [
    "# the cases cross 100 at 2020-03-24 the index 15 in our table\n",
    "# before that all values are equal to the first smoothed estimate\n",
    "for i in range(-1,-16,-1):\n",
    "    df_smooth.loc[i] = [df_smooth['beta'][15],df_smooth['gamma'][15] ,df_smooth['delta'][15]]\n",
    "    \n",
    "df_smooth.index = df_smooth.index + 15  # shifting index\n",
    "df_smooth = df_smooth.sort_index()    \n",
    "df_smooth = df_smooth.reset_index()\n",
    "df_smooth = df_smooth.drop('index',axis=1)"
   ]
  },
  {
   "cell_type": "code",
   "execution_count": 407,
   "metadata": {},
   "outputs": [
    {
     "data": {
      "text/html": [
       "<div>\n",
       "<style scoped>\n",
       "    .dataframe tbody tr th:only-of-type {\n",
       "        vertical-align: middle;\n",
       "    }\n",
       "\n",
       "    .dataframe tbody tr th {\n",
       "        vertical-align: top;\n",
       "    }\n",
       "\n",
       "    .dataframe thead th {\n",
       "        text-align: right;\n",
       "    }\n",
       "</style>\n",
       "<table border=\"1\" class=\"dataframe\">\n",
       "  <thead>\n",
       "    <tr style=\"text-align: right;\">\n",
       "      <th></th>\n",
       "      <th>beta</th>\n",
       "      <th>gamma</th>\n",
       "      <th>delta</th>\n",
       "      <th>r0</th>\n",
       "    </tr>\n",
       "  </thead>\n",
       "  <tbody>\n",
       "    <tr>\n",
       "      <th>0</th>\n",
       "      <td>0.150157</td>\n",
       "      <td>-0.000259</td>\n",
       "      <td>0.000127</td>\n",
       "      <td>0.150289</td>\n",
       "    </tr>\n",
       "    <tr>\n",
       "      <th>1</th>\n",
       "      <td>0.150157</td>\n",
       "      <td>-0.000259</td>\n",
       "      <td>0.000127</td>\n",
       "      <td>0.150289</td>\n",
       "    </tr>\n",
       "    <tr>\n",
       "      <th>2</th>\n",
       "      <td>0.150157</td>\n",
       "      <td>-0.000259</td>\n",
       "      <td>0.000127</td>\n",
       "      <td>0.150289</td>\n",
       "    </tr>\n",
       "    <tr>\n",
       "      <th>3</th>\n",
       "      <td>0.150157</td>\n",
       "      <td>-0.000259</td>\n",
       "      <td>0.000127</td>\n",
       "      <td>0.150289</td>\n",
       "    </tr>\n",
       "    <tr>\n",
       "      <th>4</th>\n",
       "      <td>0.150157</td>\n",
       "      <td>-0.000259</td>\n",
       "      <td>0.000127</td>\n",
       "      <td>0.150289</td>\n",
       "    </tr>\n",
       "    <tr>\n",
       "      <th>...</th>\n",
       "      <td>...</td>\n",
       "      <td>...</td>\n",
       "      <td>...</td>\n",
       "      <td>...</td>\n",
       "    </tr>\n",
       "    <tr>\n",
       "      <th>158</th>\n",
       "      <td>0.073554</td>\n",
       "      <td>0.065300</td>\n",
       "      <td>0.002048</td>\n",
       "      <td>0.006206</td>\n",
       "    </tr>\n",
       "    <tr>\n",
       "      <th>159</th>\n",
       "      <td>0.071939</td>\n",
       "      <td>0.065129</td>\n",
       "      <td>0.001980</td>\n",
       "      <td>0.004830</td>\n",
       "    </tr>\n",
       "    <tr>\n",
       "      <th>160</th>\n",
       "      <td>0.070153</td>\n",
       "      <td>0.064928</td>\n",
       "      <td>0.001905</td>\n",
       "      <td>0.003320</td>\n",
       "    </tr>\n",
       "    <tr>\n",
       "      <th>161</th>\n",
       "      <td>0.068173</td>\n",
       "      <td>0.064701</td>\n",
       "      <td>0.001822</td>\n",
       "      <td>0.001650</td>\n",
       "    </tr>\n",
       "    <tr>\n",
       "      <th>162</th>\n",
       "      <td>0.066053</td>\n",
       "      <td>0.064450</td>\n",
       "      <td>0.001734</td>\n",
       "      <td>-0.000131</td>\n",
       "    </tr>\n",
       "  </tbody>\n",
       "</table>\n",
       "<p>163 rows × 4 columns</p>\n",
       "</div>"
      ],
      "text/plain": [
       "         beta     gamma     delta        r0\n",
       "0    0.150157 -0.000259  0.000127  0.150289\n",
       "1    0.150157 -0.000259  0.000127  0.150289\n",
       "2    0.150157 -0.000259  0.000127  0.150289\n",
       "3    0.150157 -0.000259  0.000127  0.150289\n",
       "4    0.150157 -0.000259  0.000127  0.150289\n",
       "..        ...       ...       ...       ...\n",
       "158  0.073554  0.065300  0.002048  0.006206\n",
       "159  0.071939  0.065129  0.001980  0.004830\n",
       "160  0.070153  0.064928  0.001905  0.003320\n",
       "161  0.068173  0.064701  0.001822  0.001650\n",
       "162  0.066053  0.064450  0.001734 -0.000131\n",
       "\n",
       "[163 rows x 4 columns]"
      ]
     },
     "execution_count": 407,
     "metadata": {},
     "output_type": "execute_result"
    }
   ],
   "source": [
    "# Adding smoothed r0 and R0 to the smoothed data\n",
    "df_smooth['r0'] = df_smooth['beta'] - df_smooth['delta'] - df_smooth['gamma']\n",
    "df_smooth"
   ]
  },
  {
   "cell_type": "markdown",
   "metadata": {},
   "source": [
    "# The equations on which our model is defined\n",
    "\n",
    "S(t+1) = S – βSI/N\n",
    "\n",
    "I(t+1) = I + βSI/N – γI – δI\n",
    "\n",
    "R(t+1) = R + γI\n",
    "\n",
    "D(t+1) = D + δI\n",
    "\n",
    "S:Susceptible , I:Infected , R:Recovered , D:Deceased"
   ]
  },
  {
   "cell_type": "code",
   "execution_count": 408,
   "metadata": {},
   "outputs": [],
   "source": [
    "#defined model of SIRD\n",
    "def SIRD(S,I,R,D,df_smooth):\n",
    "    s_ , i_ , r_ , d_ = [],[],[],[]\n",
    "    for i in range(len(df_smooth)):\n",
    "        S = S - (df_smooth.loc[i]['beta']*S*I)/N\n",
    "        I = I + ((df_smooth.loc[i]['beta']*S*I)/N) \\\n",
    "             - df_smooth.loc[i]['gamma']*I - df_smooth.loc[i]['delta']*I\n",
    "        R = R + df_smooth.loc[i]['gamma']*I\n",
    "        D = D + df_smooth.loc[i]['delta']*I\n",
    "        s_.append(S)\n",
    "        i_.append(I)\n",
    "        r_.append(R)\n",
    "        d_.append(D)\n",
    "    df = pd.DataFrame(columns=['Susceptible','Confirmed','Infected','Recovered','Deceased'])\n",
    "    df['Susceptible'] = s_\n",
    "    df['Infected']    = i_\n",
    "    df['Recovered']   = r_\n",
    "    df['Deceased']    = d_\n",
    "    df['Confirmed']   = df['Infected'] + df['Recovered'] + df['Deceased']\n",
    "    \n",
    "    return df\n",
    "    \n",
    "    "
   ]
  },
  {
   "cell_type": "markdown",
   "metadata": {},
   "source": [
    "# Defining initial values for our SIRD model\n",
    "### S(0) = N ,D(0)=R(0)=0\n",
    "###  C = I + R + D\n",
    "\n",
    "\n",
    "For I(0) must be determined from the data .\n"
   ]
  },
  {
   "cell_type": "code",
   "execution_count": 409,
   "metadata": {},
   "outputs": [],
   "source": [
    "S = N\n",
    "I = 11\n",
    "R = 0\n",
    "D = 0"
   ]
  },
  {
   "cell_type": "code",
   "execution_count": 410,
   "metadata": {},
   "outputs": [
    {
     "data": {
      "text/plain": [
       "(112374333, 11, 0, 0)"
      ]
     },
     "execution_count": 410,
     "metadata": {},
     "output_type": "execute_result"
    }
   ],
   "source": [
    "S,I,R,D"
   ]
  },
  {
   "cell_type": "code",
   "execution_count": 411,
   "metadata": {},
   "outputs": [],
   "source": [
    "df_pred = SIRD(S,I,R,D,df_smooth)"
   ]
  },
  {
   "cell_type": "code",
   "execution_count": 412,
   "metadata": {},
   "outputs": [
    {
     "data": {
      "text/html": [
       "<div>\n",
       "<style scoped>\n",
       "    .dataframe tbody tr th:only-of-type {\n",
       "        vertical-align: middle;\n",
       "    }\n",
       "\n",
       "    .dataframe tbody tr th {\n",
       "        vertical-align: top;\n",
       "    }\n",
       "\n",
       "    .dataframe thead th {\n",
       "        text-align: right;\n",
       "    }\n",
       "</style>\n",
       "<table border=\"1\" class=\"dataframe\">\n",
       "  <thead>\n",
       "    <tr style=\"text-align: right;\">\n",
       "      <th></th>\n",
       "      <th>Susceptible</th>\n",
       "      <th>Confirmed</th>\n",
       "      <th>Infected</th>\n",
       "      <th>Recovered</th>\n",
       "      <th>Deceased</th>\n",
       "    </tr>\n",
       "  </thead>\n",
       "  <tbody>\n",
       "    <tr>\n",
       "      <th>0</th>\n",
       "      <td>1.123743e+08</td>\n",
       "      <td>12.651505</td>\n",
       "      <td>12.653178</td>\n",
       "      <td>-0.003275</td>\n",
       "      <td>0.001602</td>\n",
       "    </tr>\n",
       "    <tr>\n",
       "      <th>1</th>\n",
       "      <td>1.123743e+08</td>\n",
       "      <td>14.551213</td>\n",
       "      <td>14.554809</td>\n",
       "      <td>-0.007042</td>\n",
       "      <td>0.003445</td>\n",
       "    </tr>\n",
       "    <tr>\n",
       "      <th>2</th>\n",
       "      <td>1.123743e+08</td>\n",
       "      <td>16.736425</td>\n",
       "      <td>16.742235</td>\n",
       "      <td>-0.011375</td>\n",
       "      <td>0.005565</td>\n",
       "    </tr>\n",
       "    <tr>\n",
       "      <th>3</th>\n",
       "      <td>1.123743e+08</td>\n",
       "      <td>19.250051</td>\n",
       "      <td>19.258406</td>\n",
       "      <td>-0.016360</td>\n",
       "      <td>0.008004</td>\n",
       "    </tr>\n",
       "    <tr>\n",
       "      <th>4</th>\n",
       "      <td>1.123743e+08</td>\n",
       "      <td>22.141446</td>\n",
       "      <td>22.152730</td>\n",
       "      <td>-0.022093</td>\n",
       "      <td>0.010809</td>\n",
       "    </tr>\n",
       "    <tr>\n",
       "      <th>...</th>\n",
       "      <td>...</td>\n",
       "      <td>...</td>\n",
       "      <td>...</td>\n",
       "      <td>...</td>\n",
       "      <td>...</td>\n",
       "    </tr>\n",
       "    <tr>\n",
       "      <th>158</th>\n",
       "      <td>1.117974e+08</td>\n",
       "      <td>583885.077143</td>\n",
       "      <td>166444.503515</td>\n",
       "      <td>398909.722919</td>\n",
       "      <td>18530.850709</td>\n",
       "    </tr>\n",
       "    <tr>\n",
       "      <th>159</th>\n",
       "      <td>1.117854e+08</td>\n",
       "      <td>595845.969739</td>\n",
       "      <td>167185.628436</td>\n",
       "      <td>409798.382143</td>\n",
       "      <td>18861.959160</td>\n",
       "    </tr>\n",
       "    <tr>\n",
       "      <th>160</th>\n",
       "      <td>1.117738e+08</td>\n",
       "      <td>607544.705942</td>\n",
       "      <td>167677.927411</td>\n",
       "      <td>420685.413035</td>\n",
       "      <td>19181.365495</td>\n",
       "    </tr>\n",
       "    <tr>\n",
       "      <th>161</th>\n",
       "      <td>1.117624e+08</td>\n",
       "      <td>618927.769004</td>\n",
       "      <td>167892.275510</td>\n",
       "      <td>431548.183423</td>\n",
       "      <td>19487.310071</td>\n",
       "    </tr>\n",
       "    <tr>\n",
       "      <th>162</th>\n",
       "      <td>1.117514e+08</td>\n",
       "      <td>629950.602263</td>\n",
       "      <td>167808.840805</td>\n",
       "      <td>442363.394270</td>\n",
       "      <td>19778.367188</td>\n",
       "    </tr>\n",
       "  </tbody>\n",
       "</table>\n",
       "<p>163 rows × 5 columns</p>\n",
       "</div>"
      ],
      "text/plain": [
       "      Susceptible      Confirmed       Infected      Recovered      Deceased\n",
       "0    1.123743e+08      12.651505      12.653178      -0.003275      0.001602\n",
       "1    1.123743e+08      14.551213      14.554809      -0.007042      0.003445\n",
       "2    1.123743e+08      16.736425      16.742235      -0.011375      0.005565\n",
       "3    1.123743e+08      19.250051      19.258406      -0.016360      0.008004\n",
       "4    1.123743e+08      22.141446      22.152730      -0.022093      0.010809\n",
       "..            ...            ...            ...            ...           ...\n",
       "158  1.117974e+08  583885.077143  166444.503515  398909.722919  18530.850709\n",
       "159  1.117854e+08  595845.969739  167185.628436  409798.382143  18861.959160\n",
       "160  1.117738e+08  607544.705942  167677.927411  420685.413035  19181.365495\n",
       "161  1.117624e+08  618927.769004  167892.275510  431548.183423  19487.310071\n",
       "162  1.117514e+08  629950.602263  167808.840805  442363.394270  19778.367188\n",
       "\n",
       "[163 rows x 5 columns]"
      ]
     },
     "execution_count": 412,
     "metadata": {},
     "output_type": "execute_result"
    }
   ],
   "source": [
    "df_pred"
   ]
  },
  {
   "cell_type": "markdown",
   "metadata": {},
   "source": [
    "# Measure of Model Fit \n",
    "## predR² = 1 – Σ(Y – X)2 / Σ[X – mean(X)]2\n",
    "\n",
    "we use numer = Σ(Y – X)2 and denom = Σ[X – mean(X)]2\n",
    "\n"
   ]
  },
  {
   "cell_type": "code",
   "execution_count": 413,
   "metadata": {},
   "outputs": [],
   "source": [
    "def PredR_sq(df_pred,df_orig,col):\n",
    "    '''col represents the column on which predR_squared will be applied'''\n",
    "    \n",
    "    n = (df_pred[col] - df_orig[col])**2 \n",
    "    numer = n.sum() #summation\n",
    "    mean_x = df_orig[col].mean()\n",
    "    d = (df_orig[col] - mean_x)**2\n",
    "    denom = d.sum() #summation\n",
    "    pred_rsq = 1 - (numer/denom)\n",
    "    \n",
    "    return pred_rsq"
   ]
  },
  {
   "cell_type": "code",
   "execution_count": 414,
   "metadata": {},
   "outputs": [
    {
     "name": "stdout",
     "output_type": "stream",
     "text": [
      "0.9954275192923276\n"
     ]
    }
   ],
   "source": [
    "# pass in column name on which we need to measure the \n",
    "print(PredR_sq(df_pred,df_mh,'Confirmed'))"
   ]
  },
  {
   "cell_type": "markdown",
   "metadata": {},
   "source": [
    "# Plots\n",
    "\n",
    "predicted vs Original \n",
    "\n",
    "Scattered are the original datapoints\n",
    "\n",
    "Curves or lines are the predicted datapoints"
   ]
  },
  {
   "cell_type": "markdown",
   "metadata": {},
   "source": [
    "#### Here ax.scatter plots the scatter plot \n",
    "\n",
    "first and second arguements are x and y axis data respectively\n",
    "\n",
    "s represents the size of individual marker\n",
    "\n",
    "#### ax.plot is used to plot the curve of predicted values\n",
    "\n",
    "first and second arguements are x and y axis data\n",
    "\n",
    "linewidth can be modified by changing the value\n",
    "\n",
    "#### xticks are used to control labels on x axis\n",
    "\n",
    "the dates at index 0 40 80 120 160 are only displayed as labels\n",
    "\n"
   ]
  },
  {
   "cell_type": "code",
   "execution_count": 415,
   "metadata": {},
   "outputs": [
    {
     "data": {
      "image/png": "[encoded data removed]",
      "text/plain": [
       "<Figure size 432x288 with 1 Axes>"
      ]
     },
     "metadata": {
      "needs_background": "light"
     },
     "output_type": "display_data"
    }
   ],
   "source": [
    "#infected\n",
    "fig = plt.figure()\n",
    "ax = fig.add_axes([0,0,1,1])\n",
    "\n",
    "ax.scatter(df_mh['Date'],df_mh['Infected'],s=5)\n",
    "ax.plot(df_mh['Date'],df_pred['Infected'],linewidth=3)\n",
    "ax.set_xticks([0,40,80,120,160])\n",
    "ax.set_title('Infected')\n",
    "# plt.savefig('Infected.jpg',bbox_inches='tight') #uncomment if want to save the graph as image\n",
    "plt.show()\n"
   ]
  },
  {
   "cell_type": "code",
   "execution_count": 416,
   "metadata": {},
   "outputs": [
    {
     "data": {
      "image/png": "[encoded data removed]",
      "text/plain": [
       "<Figure size 432x288 with 1 Axes>"
      ]
     },
     "metadata": {
      "needs_background": "light"
     },
     "output_type": "display_data"
    }
   ],
   "source": [
    "#Deceased\n",
    "fig = plt.figure()\n",
    "ax = fig.add_axes([0,0,1,1])\n",
    "\n",
    "ax.scatter(df_mh['Date'],df_mh['Deceased'],s=5)\n",
    "ax.plot(df_mh['Date'],df_pred['Deceased'],linewidth=3)\n",
    "ax.set_xticks([0,40,80,120,160])\n",
    "ax.set_title('Deceased')\n",
    "#plt.savefig('Deceased.jpg',bbox_inches='tight') #uncomment if want to save the graph as image\n",
    "plt.show()\n"
   ]
  },
  {
   "cell_type": "code",
   "execution_count": 417,
   "metadata": {},
   "outputs": [
    {
     "data": {
      "image/png": "[encoded data removed]",
      "text/plain": [
       "<Figure size 432x288 with 1 Axes>"
      ]
     },
     "metadata": {
      "needs_background": "light"
     },
     "output_type": "display_data"
    }
   ],
   "source": [
    "#Recovered\n",
    "fig = plt.figure()\n",
    "ax = fig.add_axes([0,0,1,1])\n",
    "\n",
    "ax.scatter(df_mh['Date'],df_mh['Recovered'],s=5)\n",
    "ax.plot(df_mh['Date'],df_pred['Recovered'],linewidth=3)\n",
    "ax.set_xticks([0,40,80,120,160])\n",
    "ax.set_title('Recovered')\n",
    "#plt.savefig('Recovered.jpg',bbox_inches='tight') #uncomment if want to save the graph as image\n",
    "plt.show()"
   ]
  },
  {
   "cell_type": "code",
   "execution_count": 418,
   "metadata": {},
   "outputs": [
    {
     "data": {
      "image/png": "[encoded data removed]",
      "text/plain": [
       "<Figure size 432x288 with 1 Axes>"
      ]
     },
     "metadata": {
      "needs_background": "light"
     },
     "output_type": "display_data"
    }
   ],
   "source": [
    "#New Cases deltaC\n",
    "fig = plt.figure()\n",
    "ax = fig.add_axes([0,0,1,1])\n",
    "\n",
    "ax.scatter(df_mh['Date'],df_mh['Delta_C'],s=5)\n",
    "ax.plot(df_mh['Date'],df_pred['Confirmed'].diff(),linewidth=3)\n",
    "ax.set_xticks([0,40,80,120,160])\n",
    "ax.set_title('New Cases ΔC ')\n",
    "#plt.savefig('New Cases.jpg',bbox_inches='tight') #uncomment if want to save the graph as image\n",
    "plt.show()"
   ]
  },
  {
   "cell_type": "code",
   "execution_count": 419,
   "metadata": {},
   "outputs": [
    {
     "data": {
      "image/png": "[encoded data removed]",
      "text/plain": [
       "<Figure size 432x288 with 1 Axes>"
      ]
     },
     "metadata": {
      "needs_background": "light"
     },
     "output_type": "display_data"
    }
   ],
   "source": [
    "#Daily deaths delta_D\n",
    "fig = plt.figure()\n",
    "ax = fig.add_axes([0,0,1,1])\n",
    "\n",
    "ax.scatter(df_mh['Date'],df_mh['Delta_D'],s=5)\n",
    "ax.plot(df_mh['Date'],df_pred['Deceased'].diff(),linewidth=3)\n",
    "ax.set_xticks([0,40,80,120,160])\n",
    "ax.set_title('Daily Deaths')\n",
    "#plt.savefig('Daily Deaths.jpg',bbox_inches='tight') #uncomment if want to save the graph as image\n",
    "plt.show()\n"
   ]
  },
  {
   "cell_type": "code",
   "execution_count": 420,
   "metadata": {},
   "outputs": [
    {
     "data": {
      "image/png": "[encoded data removed]",
      "text/plain": [
       "<Figure size 432x288 with 1 Axes>"
      ]
     },
     "metadata": {
      "needs_background": "light"
     },
     "output_type": "display_data"
    }
   ],
   "source": [
    "#Confirmed\n",
    "fig = plt.figure()\n",
    "ax = fig.add_axes([0,0,1,1])\n",
    "\n",
    "ax.scatter(df_mh['Date'],df_mh['Confirmed'],s=5)\n",
    "ax.plot(df_mh['Date'],df_pred['Confirmed'],linewidth=3)\n",
    "ax.set_xticks([0,40,80,120,160])\n",
    "ax.set_title('Confirmed')\n",
    "#plt.savefig('Confirmed.jpg',bbox_inches='tight') #uncomment if want to save the graph as image\n",
    "plt.show()\n"
   ]
  },
  {
   "cell_type": "code",
   "execution_count": 421,
   "metadata": {},
   "outputs": [
    {
     "data": {
      "image/png": "[encoded data removed]",
      "text/plain": [
       "<Figure size 432x288 with 1 Axes>"
      ]
     },
     "metadata": {
      "needs_background": "light"
     },
     "output_type": "display_data"
    }
   ],
   "source": [
    "#beta\n",
    "fig = plt.figure()\n",
    "ax = fig.add_axes([0,0,1,1])\n",
    "\n",
    "\n",
    "ax.scatter(df_mh['Date'],df_mh['beta'],s=8,c='g')\n",
    "ax.plot(df_mh['Date'],df_smooth['beta'],linewidth=2,c='g')\n",
    "ax.set_xticks([0,40,80,120,160])\n",
    "ax.set_title('Beta(t)')\n",
    "#plt.savefig('Beta.png',bbox_inches='tight') #uncomment if want to save the graph as image\n",
    "plt.show()\n"
   ]
  },
  {
   "cell_type": "code",
   "execution_count": 422,
   "metadata": {},
   "outputs": [
    {
     "data": {
      "image/png": "[encoded data removed]",
      "text/plain": [
       "<Figure size 432x288 with 1 Axes>"
      ]
     },
     "metadata": {
      "needs_background": "light"
     },
     "output_type": "display_data"
    }
   ],
   "source": [
    "#Delta\n",
    "fig = plt.figure()\n",
    "ax = fig.add_axes([0,0,1,1])\n",
    "\n",
    "\n",
    "ax.scatter(df_mh['Date'],df_mh['delta'],s=8,c='g')\n",
    "ax.plot(df_mh['Date'],df_smooth['delta'],linewidth=2,c='g')\n",
    "ax.set_xticks([0,40,80,120,160])\n",
    "ax.set_title('Delta(t)')\n",
    "#plt.savefig('Delta.jpg',bbox_inches='tight')#uncomment if want to save the graph as image\n",
    "plt.show()\n"
   ]
  },
  {
   "cell_type": "code",
   "execution_count": 423,
   "metadata": {},
   "outputs": [
    {
     "data": {
      "image/png": "[encoded data removed]",
      "text/plain": [
       "<Figure size 432x288 with 1 Axes>"
      ]
     },
     "metadata": {
      "needs_background": "light"
     },
     "output_type": "display_data"
    }
   ],
   "source": [
    "#r0\n",
    "fig = plt.figure()\n",
    "ax = fig.add_axes([0,0,1,1])\n",
    "\n",
    "ax.plot(df_mh['Date'],[0]*163,'--g')\n",
    "ax.plot(df_mh['Date'],df_smooth['r0'],linewidth=2,c='g')\n",
    "ax.set_xticks([0,40,80,120,160])\n",
    "ax.set_title('r0')\n",
    "#plt.savefig('r0.jpg',bbox_inches='tight') #uncomment if want to save the graph as image\n",
    "plt.show()"
   ]
  },
  {
   "cell_type": "markdown",
   "metadata": {},
   "source": [
    "### Extra plots for gamma,R(t) and delta(R,I)"
   ]
  },
  {
   "cell_type": "code",
   "execution_count": 427,
   "metadata": {},
   "outputs": [
    {
     "data": {
      "image/png": "[encoded data removed]",
      "text/plain": [
       "<Figure size 432x288 with 1 Axes>"
      ]
     },
     "metadata": {
      "needs_background": "light"
     },
     "output_type": "display_data"
    }
   ],
   "source": [
    "#Gamma\n",
    "fig = plt.figure()\n",
    "ax = fig.add_axes([0,0,1,1])\n",
    "\n",
    "\n",
    "ax.scatter(df_mh['Date'],df_mh['gamma'],s=8,c='g')\n",
    "ax.plot(df_mh['Date'],df_smooth['gamma'],linewidth=2,c='g')\n",
    "ax.set_xticks([0,40,80,120,160])\n",
    "ax.set_title('Gamma(t)')\n",
    "#plt.savefig('Gamma.jpg',bbox_inches='tight')#uncomment if want to save the graph as image\n",
    "plt.show()"
   ]
  },
  {
   "cell_type": "code",
   "execution_count": 424,
   "metadata": {},
   "outputs": [
    {
     "data": {
      "image/png": "[encoded data removed]",
      "text/plain": [
       "<Figure size 432x288 with 1 Axes>"
      ]
     },
     "metadata": {
      "needs_background": "light"
     },
     "output_type": "display_data"
    }
   ],
   "source": [
    "# Recovered\n",
    "fig = plt.figure()\n",
    "ax = fig.add_axes([0,0,1,1])\n",
    "\n",
    "ax.scatter(df_mh['Date'],df_mh['Recovered'],s=5)\n",
    "ax.plot(df_mh['Date'],df_pred['Recovered'],linewidth=3)\n",
    "ax.set_xticks([0,40,80,120,160])\n",
    "ax.set_title('Recovered')\n",
    "#plt.savefig('Recovered.jpg',bbox_inches='tight') #uncomment if want to save the graph as image\n",
    "plt.show()"
   ]
  },
  {
   "cell_type": "code",
   "execution_count": 425,
   "metadata": {},
   "outputs": [
    {
     "data": {
      "image/png": "[encoded data removed]",
      "text/plain": [
       "<Figure size 432x288 with 1 Axes>"
      ]
     },
     "metadata": {
      "needs_background": "light"
     },
     "output_type": "display_data"
    }
   ],
   "source": [
    "#Daily recoveries  deltaR\n",
    "fig = plt.figure()\n",
    "ax = fig.add_axes([0,0,1,1])\n",
    "\n",
    "ax.scatter(df_mh['Date'],df_mh['Delta_R'],s=5)\n",
    "ax.plot(df_mh['Date'],df_pred['Recovered'].diff(),linewidth=3)\n",
    "ax.set_xticks([0,40,80,120,160])\n",
    "ax.set_title('Daily Recoveries ΔR ')\n",
    "#plt.savefig('Daily Recoveries ΔR.jpg',bbox_inches='tight') #uncomment if want to save the graph as image\n",
    "plt.show()"
   ]
  },
  {
   "cell_type": "code",
   "execution_count": 426,
   "metadata": {},
   "outputs": [
    {
     "data": {
      "image/png": "[encoded data removed]",
      "text/plain": [
       "<Figure size 432x288 with 1 Axes>"
      ]
     },
     "metadata": {
      "needs_background": "light"
     },
     "output_type": "display_data"
    }
   ],
   "source": [
    "#Daily infected  ΔI\n",
    "fig = plt.figure()\n",
    "ax = fig.add_axes([0,0,1,1])\n",
    "\n",
    "ax.scatter(df_mh['Date'],df_mh['Infected'].diff(),s=5)\n",
    "ax.plot(df_mh['Date'],df_pred['Infected'].diff(),linewidth=3)\n",
    "ax.set_xticks([0,40,80,120,160])\n",
    "ax.set_title('Daily infected  ΔI ')\n",
    "#plt.savefig('Daily infected  ΔI.jpg',bbox_inches='tight') #uncomment if want to save the graph as image\n",
    "plt.show()"
   ]
  }
 ],
 "metadata": {
  "kernelspec": {
   "display_name": "Python 3",
   "language": "python",
   "name": "python3"
  },
  "language_info": {
   "codemirror_mode": {
    "name": "ipython",
    "version": 3
   },
   "file_extension": ".py",
   "mimetype": "text/x-python",
   "name": "python",
   "nbconvert_exporter": "python",
   "pygments_lexer": "ipython3",
   "version": "3.7.8"
  }
 },
 "nbformat": 4,
 "nbformat_minor": 4
}
