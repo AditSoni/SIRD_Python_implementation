{
 "cells": [
  {
   "cell_type": "code",
   "execution_count": 1,
   "metadata": {},
   "outputs": [],
   "source": [
    "import pandas as pd\n",
    "import numpy as np\n",
    "import matplotlib.pyplot as plt\n",
    "%matplotlib inline"
   ]
  },
  {
   "cell_type": "code",
   "execution_count": 2,
   "metadata": {},
   "outputs": [],
   "source": [
    "#Loading Dataset\n",
    "df_cumulative1 = pd.read_csv(\"1. State Cumulative Data.csv\")\n",
    "df_cumulative2 = pd.read_csv(\"2. states.csv\")\n",
    "df_pop = pd.read_csv(\"3. population_india_census2011.csv\")"
   ]
  },
  {
   "cell_type": "code",
   "execution_count": 3,
   "metadata": {},
   "outputs": [
    {
     "name": "stdout",
     "output_type": "stream",
     "text": [
      "The Population of Maharashtra is 112374333\n"
     ]
    }
   ],
   "source": [
    "# Storing population of state\n",
    "state='Maharashtra'\n",
    "N = df_pop[df_pop[\"State / Union Territory\"] == state]['Population'][1]\n",
    "print('The Population of {0} is {1}'.format(state,int(N)))"
   ]
  },
  {
   "cell_type": "code",
   "execution_count": 4,
   "metadata": {},
   "outputs": [
    {
     "data": {
      "text/html": [
       "<div>\n",
       "<style scoped>\n",
       "    .dataframe tbody tr th:only-of-type {\n",
       "        vertical-align: middle;\n",
       "    }\n",
       "\n",
       "    .dataframe tbody tr th {\n",
       "        vertical-align: top;\n",
       "    }\n",
       "\n",
       "    .dataframe thead th {\n",
       "        text-align: right;\n",
       "    }\n",
       "</style>\n",
       "<table border=\"1\" class=\"dataframe\">\n",
       "  <thead>\n",
       "    <tr style=\"text-align: right;\">\n",
       "      <th></th>\n",
       "      <th>Date</th>\n",
       "      <th>State</th>\n",
       "      <th>Confirmed</th>\n",
       "      <th>Recovered</th>\n",
       "      <th>Deceased</th>\n",
       "      <th>Other</th>\n",
       "      <th>Tested</th>\n",
       "    </tr>\n",
       "  </thead>\n",
       "  <tbody>\n",
       "    <tr>\n",
       "      <th>0</th>\n",
       "      <td>2020-03-09</td>\n",
       "      <td>Maharashtra</td>\n",
       "      <td>2</td>\n",
       "      <td>0</td>\n",
       "      <td>0</td>\n",
       "      <td>0</td>\n",
       "      <td>0.0</td>\n",
       "    </tr>\n",
       "    <tr>\n",
       "      <th>1</th>\n",
       "      <td>2020-03-10</td>\n",
       "      <td>Maharashtra</td>\n",
       "      <td>5</td>\n",
       "      <td>0</td>\n",
       "      <td>0</td>\n",
       "      <td>0</td>\n",
       "      <td>0.0</td>\n",
       "    </tr>\n",
       "    <tr>\n",
       "      <th>2</th>\n",
       "      <td>2020-03-11</td>\n",
       "      <td>Maharashtra</td>\n",
       "      <td>11</td>\n",
       "      <td>0</td>\n",
       "      <td>0</td>\n",
       "      <td>0</td>\n",
       "      <td>0.0</td>\n",
       "    </tr>\n",
       "    <tr>\n",
       "      <th>3</th>\n",
       "      <td>2020-03-12</td>\n",
       "      <td>Maharashtra</td>\n",
       "      <td>14</td>\n",
       "      <td>0</td>\n",
       "      <td>0</td>\n",
       "      <td>0</td>\n",
       "      <td>0.0</td>\n",
       "    </tr>\n",
       "    <tr>\n",
       "      <th>4</th>\n",
       "      <td>2020-03-13</td>\n",
       "      <td>Maharashtra</td>\n",
       "      <td>17</td>\n",
       "      <td>0</td>\n",
       "      <td>0</td>\n",
       "      <td>0</td>\n",
       "      <td>0.0</td>\n",
       "    </tr>\n",
       "    <tr>\n",
       "      <th>...</th>\n",
       "      <td>...</td>\n",
       "      <td>...</td>\n",
       "      <td>...</td>\n",
       "      <td>...</td>\n",
       "      <td>...</td>\n",
       "      <td>...</td>\n",
       "      <td>...</td>\n",
       "    </tr>\n",
       "    <tr>\n",
       "      <th>158</th>\n",
       "      <td>2020-08-14</td>\n",
       "      <td>Maharashtra</td>\n",
       "      <td>572734</td>\n",
       "      <td>401442</td>\n",
       "      <td>19427</td>\n",
       "      <td>310</td>\n",
       "      <td>3049468.0</td>\n",
       "    </tr>\n",
       "    <tr>\n",
       "      <th>159</th>\n",
       "      <td>2020-08-15</td>\n",
       "      <td>Maharashtra</td>\n",
       "      <td>584754</td>\n",
       "      <td>408286</td>\n",
       "      <td>19749</td>\n",
       "      <td>310</td>\n",
       "      <td>3115716.0</td>\n",
       "    </tr>\n",
       "    <tr>\n",
       "      <th>160</th>\n",
       "      <td>2020-08-16</td>\n",
       "      <td>Maharashtra</td>\n",
       "      <td>595865</td>\n",
       "      <td>417123</td>\n",
       "      <td>20037</td>\n",
       "      <td>310</td>\n",
       "      <td>3165550.0</td>\n",
       "    </tr>\n",
       "    <tr>\n",
       "      <th>161</th>\n",
       "      <td>2020-08-17</td>\n",
       "      <td>Maharashtra</td>\n",
       "      <td>604358</td>\n",
       "      <td>428514</td>\n",
       "      <td>20265</td>\n",
       "      <td>311</td>\n",
       "      <td>3208735.0</td>\n",
       "    </tr>\n",
       "    <tr>\n",
       "      <th>162</th>\n",
       "      <td>2020-08-18</td>\n",
       "      <td>Maharashtra</td>\n",
       "      <td>615477</td>\n",
       "      <td>437870</td>\n",
       "      <td>20687</td>\n",
       "      <td>312</td>\n",
       "      <td>3267625.0</td>\n",
       "    </tr>\n",
       "  </tbody>\n",
       "</table>\n",
       "<p>163 rows × 7 columns</p>\n",
       "</div>"
      ],
      "text/plain": [
       "           Date        State  Confirmed  Recovered  Deceased  Other     Tested\n",
       "0    2020-03-09  Maharashtra          2          0         0      0        0.0\n",
       "1    2020-03-10  Maharashtra          5          0         0      0        0.0\n",
       "2    2020-03-11  Maharashtra         11          0         0      0        0.0\n",
       "3    2020-03-12  Maharashtra         14          0         0      0        0.0\n",
       "4    2020-03-13  Maharashtra         17          0         0      0        0.0\n",
       "..          ...          ...        ...        ...       ...    ...        ...\n",
       "158  2020-08-14  Maharashtra     572734     401442     19427    310  3049468.0\n",
       "159  2020-08-15  Maharashtra     584754     408286     19749    310  3115716.0\n",
       "160  2020-08-16  Maharashtra     595865     417123     20037    310  3165550.0\n",
       "161  2020-08-17  Maharashtra     604358     428514     20265    311  3208735.0\n",
       "162  2020-08-18  Maharashtra     615477     437870     20687    312  3267625.0\n",
       "\n",
       "[163 rows x 7 columns]"
      ]
     },
     "execution_count": 4,
     "metadata": {},
     "output_type": "execute_result"
    }
   ],
   "source": [
    "# Performing operations to get the data for State of Maharashtra\n",
    "df_mh= df_cumulative2[df_cumulative2['State']==state].fillna(0)\n",
    "df_mh = df_mh.reset_index().drop('index',axis=1)\n",
    "df_mh"
   ]
  },
  {
   "cell_type": "markdown",
   "metadata": {},
   "source": [
    "## Checking if Total cases are more than  1% of the population\n"
   ]
  },
  {
   "cell_type": "code",
   "execution_count": 5,
   "metadata": {},
   "outputs": [
    {
     "data": {
      "text/plain": [
       "0.5477024722362535"
      ]
     },
     "execution_count": 5,
     "metadata": {},
     "output_type": "execute_result"
    }
   ],
   "source": [
    "(df_mh['Confirmed'].iloc[162] / N ) *100\n",
    "#as we can see it is only 0.54% of total population"
   ]
  },
  {
   "cell_type": "markdown",
   "metadata": {},
   "source": [
    "# Adding Infected,ΔC,ΔD,ΔR,β,δ,γ to dataFrame\n",
    "\n",
    "I(t) = C(t) – [R(t) + D(t)] The number of Infected (aka active cases)\n",
    "\n",
    "ΔC(t) = C(t+1) – C(t) New cases\n",
    "\n",
    "ΔD(t) = D(t+1) – D(t) Daily deaths\n",
    "\n",
    "ΔR(t) = R(t+1) - R(t) Daily recoveries"
   ]
  },
  {
   "cell_type": "code",
   "execution_count": 6,
   "metadata": {},
   "outputs": [],
   "source": [
    "# infected\n",
    "df_mh['Infected'] = df_mh['Confirmed'] - (df_mh[\"Recovered\"] + df_mh['Deceased'])"
   ]
  },
  {
   "cell_type": "code",
   "execution_count": 7,
   "metadata": {},
   "outputs": [],
   "source": [
    "# delta recovered,delta Confirmed , Delta Dead calculation and addition to table\n",
    "confirmed = df_mh['Confirmed'].tolist()\n",
    "deceased = df_mh['Deceased'].tolist()\n",
    "recovered = df_mh['Recovered'].tolist()\n",
    "del_c = []\n",
    "del_d = []\n",
    "del_r = []\n",
    "for i in range(len(confirmed)):\n",
    "    if i == (len(confirmed)-1) :\n",
    "        c = 0\n",
    "        d = 0\n",
    "        r = 0\n",
    "    else:\n",
    "        c = confirmed[i+1] - confirmed[i]\n",
    "        d = deceased[i+1] - deceased[i]\n",
    "        r = recovered[i+1] - recovered[i]\n",
    "    del_c.append(c)\n",
    "    del_d.append(d)\n",
    "    del_r.append(r)\n",
    "df_mh['Delta_C'] = del_c\n",
    "df_mh['Delta_D'] = del_d\n",
    "df_mh['Delta_R'] = del_r\n"
   ]
  },
  {
   "cell_type": "code",
   "execution_count": 8,
   "metadata": {},
   "outputs": [
    {
     "data": {
      "text/html": [
       "<div>\n",
       "<style scoped>\n",
       "    .dataframe tbody tr th:only-of-type {\n",
       "        vertical-align: middle;\n",
       "    }\n",
       "\n",
       "    .dataframe tbody tr th {\n",
       "        vertical-align: top;\n",
       "    }\n",
       "\n",
       "    .dataframe thead th {\n",
       "        text-align: right;\n",
       "    }\n",
       "</style>\n",
       "<table border=\"1\" class=\"dataframe\">\n",
       "  <thead>\n",
       "    <tr style=\"text-align: right;\">\n",
       "      <th></th>\n",
       "      <th>Date</th>\n",
       "      <th>State</th>\n",
       "      <th>Confirmed</th>\n",
       "      <th>Recovered</th>\n",
       "      <th>Deceased</th>\n",
       "      <th>Other</th>\n",
       "      <th>Tested</th>\n",
       "      <th>Infected</th>\n",
       "      <th>Delta_C</th>\n",
       "      <th>Delta_D</th>\n",
       "      <th>Delta_R</th>\n",
       "      <th>beta</th>\n",
       "      <th>gamma</th>\n",
       "      <th>delta</th>\n",
       "    </tr>\n",
       "  </thead>\n",
       "  <tbody>\n",
       "    <tr>\n",
       "      <th>0</th>\n",
       "      <td>2020-03-09</td>\n",
       "      <td>Maharashtra</td>\n",
       "      <td>2</td>\n",
       "      <td>0</td>\n",
       "      <td>0</td>\n",
       "      <td>0</td>\n",
       "      <td>0.0</td>\n",
       "      <td>2</td>\n",
       "      <td>3</td>\n",
       "      <td>0</td>\n",
       "      <td>0</td>\n",
       "      <td>1.500000</td>\n",
       "      <td>0.000000</td>\n",
       "      <td>0.000000</td>\n",
       "    </tr>\n",
       "    <tr>\n",
       "      <th>1</th>\n",
       "      <td>2020-03-10</td>\n",
       "      <td>Maharashtra</td>\n",
       "      <td>5</td>\n",
       "      <td>0</td>\n",
       "      <td>0</td>\n",
       "      <td>0</td>\n",
       "      <td>0.0</td>\n",
       "      <td>5</td>\n",
       "      <td>6</td>\n",
       "      <td>0</td>\n",
       "      <td>0</td>\n",
       "      <td>1.200000</td>\n",
       "      <td>0.000000</td>\n",
       "      <td>0.000000</td>\n",
       "    </tr>\n",
       "    <tr>\n",
       "      <th>2</th>\n",
       "      <td>2020-03-11</td>\n",
       "      <td>Maharashtra</td>\n",
       "      <td>11</td>\n",
       "      <td>0</td>\n",
       "      <td>0</td>\n",
       "      <td>0</td>\n",
       "      <td>0.0</td>\n",
       "      <td>11</td>\n",
       "      <td>3</td>\n",
       "      <td>0</td>\n",
       "      <td>0</td>\n",
       "      <td>0.272727</td>\n",
       "      <td>0.000000</td>\n",
       "      <td>0.000000</td>\n",
       "    </tr>\n",
       "    <tr>\n",
       "      <th>3</th>\n",
       "      <td>2020-03-12</td>\n",
       "      <td>Maharashtra</td>\n",
       "      <td>14</td>\n",
       "      <td>0</td>\n",
       "      <td>0</td>\n",
       "      <td>0</td>\n",
       "      <td>0.0</td>\n",
       "      <td>14</td>\n",
       "      <td>3</td>\n",
       "      <td>0</td>\n",
       "      <td>0</td>\n",
       "      <td>0.214286</td>\n",
       "      <td>0.000000</td>\n",
       "      <td>0.000000</td>\n",
       "    </tr>\n",
       "    <tr>\n",
       "      <th>4</th>\n",
       "      <td>2020-03-13</td>\n",
       "      <td>Maharashtra</td>\n",
       "      <td>17</td>\n",
       "      <td>0</td>\n",
       "      <td>0</td>\n",
       "      <td>0</td>\n",
       "      <td>0.0</td>\n",
       "      <td>17</td>\n",
       "      <td>9</td>\n",
       "      <td>0</td>\n",
       "      <td>0</td>\n",
       "      <td>0.529412</td>\n",
       "      <td>0.000000</td>\n",
       "      <td>0.000000</td>\n",
       "    </tr>\n",
       "    <tr>\n",
       "      <th>...</th>\n",
       "      <td>...</td>\n",
       "      <td>...</td>\n",
       "      <td>...</td>\n",
       "      <td>...</td>\n",
       "      <td>...</td>\n",
       "      <td>...</td>\n",
       "      <td>...</td>\n",
       "      <td>...</td>\n",
       "      <td>...</td>\n",
       "      <td>...</td>\n",
       "      <td>...</td>\n",
       "      <td>...</td>\n",
       "      <td>...</td>\n",
       "      <td>...</td>\n",
       "    </tr>\n",
       "    <tr>\n",
       "      <th>158</th>\n",
       "      <td>2020-08-14</td>\n",
       "      <td>Maharashtra</td>\n",
       "      <td>572734</td>\n",
       "      <td>401442</td>\n",
       "      <td>19427</td>\n",
       "      <td>310</td>\n",
       "      <td>3049468.0</td>\n",
       "      <td>151865</td>\n",
       "      <td>12020</td>\n",
       "      <td>322</td>\n",
       "      <td>6844</td>\n",
       "      <td>0.079149</td>\n",
       "      <td>0.045066</td>\n",
       "      <td>0.002120</td>\n",
       "    </tr>\n",
       "    <tr>\n",
       "      <th>159</th>\n",
       "      <td>2020-08-15</td>\n",
       "      <td>Maharashtra</td>\n",
       "      <td>584754</td>\n",
       "      <td>408286</td>\n",
       "      <td>19749</td>\n",
       "      <td>310</td>\n",
       "      <td>3115716.0</td>\n",
       "      <td>156719</td>\n",
       "      <td>11111</td>\n",
       "      <td>288</td>\n",
       "      <td>8837</td>\n",
       "      <td>0.070898</td>\n",
       "      <td>0.056388</td>\n",
       "      <td>0.001838</td>\n",
       "    </tr>\n",
       "    <tr>\n",
       "      <th>160</th>\n",
       "      <td>2020-08-16</td>\n",
       "      <td>Maharashtra</td>\n",
       "      <td>595865</td>\n",
       "      <td>417123</td>\n",
       "      <td>20037</td>\n",
       "      <td>310</td>\n",
       "      <td>3165550.0</td>\n",
       "      <td>158705</td>\n",
       "      <td>8493</td>\n",
       "      <td>228</td>\n",
       "      <td>11391</td>\n",
       "      <td>0.053514</td>\n",
       "      <td>0.071775</td>\n",
       "      <td>0.001437</td>\n",
       "    </tr>\n",
       "    <tr>\n",
       "      <th>161</th>\n",
       "      <td>2020-08-17</td>\n",
       "      <td>Maharashtra</td>\n",
       "      <td>604358</td>\n",
       "      <td>428514</td>\n",
       "      <td>20265</td>\n",
       "      <td>311</td>\n",
       "      <td>3208735.0</td>\n",
       "      <td>155579</td>\n",
       "      <td>11119</td>\n",
       "      <td>422</td>\n",
       "      <td>9356</td>\n",
       "      <td>0.071469</td>\n",
       "      <td>0.060137</td>\n",
       "      <td>0.002712</td>\n",
       "    </tr>\n",
       "    <tr>\n",
       "      <th>162</th>\n",
       "      <td>2020-08-18</td>\n",
       "      <td>Maharashtra</td>\n",
       "      <td>615477</td>\n",
       "      <td>437870</td>\n",
       "      <td>20687</td>\n",
       "      <td>312</td>\n",
       "      <td>3267625.0</td>\n",
       "      <td>156920</td>\n",
       "      <td>0</td>\n",
       "      <td>0</td>\n",
       "      <td>0</td>\n",
       "      <td>0.000000</td>\n",
       "      <td>0.000000</td>\n",
       "      <td>0.000000</td>\n",
       "    </tr>\n",
       "  </tbody>\n",
       "</table>\n",
       "<p>163 rows × 14 columns</p>\n",
       "</div>"
      ],
      "text/plain": [
       "           Date        State  Confirmed  Recovered  Deceased  Other  \\\n",
       "0    2020-03-09  Maharashtra          2          0         0      0   \n",
       "1    2020-03-10  Maharashtra          5          0         0      0   \n",
       "2    2020-03-11  Maharashtra         11          0         0      0   \n",
       "3    2020-03-12  Maharashtra         14          0         0      0   \n",
       "4    2020-03-13  Maharashtra         17          0         0      0   \n",
       "..          ...          ...        ...        ...       ...    ...   \n",
       "158  2020-08-14  Maharashtra     572734     401442     19427    310   \n",
       "159  2020-08-15  Maharashtra     584754     408286     19749    310   \n",
       "160  2020-08-16  Maharashtra     595865     417123     20037    310   \n",
       "161  2020-08-17  Maharashtra     604358     428514     20265    311   \n",
       "162  2020-08-18  Maharashtra     615477     437870     20687    312   \n",
       "\n",
       "        Tested  Infected  Delta_C  Delta_D  Delta_R      beta     gamma  \\\n",
       "0          0.0         2        3        0        0  1.500000  0.000000   \n",
       "1          0.0         5        6        0        0  1.200000  0.000000   \n",
       "2          0.0        11        3        0        0  0.272727  0.000000   \n",
       "3          0.0        14        3        0        0  0.214286  0.000000   \n",
       "4          0.0        17        9        0        0  0.529412  0.000000   \n",
       "..         ...       ...      ...      ...      ...       ...       ...   \n",
       "158  3049468.0    151865    12020      322     6844  0.079149  0.045066   \n",
       "159  3115716.0    156719    11111      288     8837  0.070898  0.056388   \n",
       "160  3165550.0    158705     8493      228    11391  0.053514  0.071775   \n",
       "161  3208735.0    155579    11119      422     9356  0.071469  0.060137   \n",
       "162  3267625.0    156920        0        0        0  0.000000  0.000000   \n",
       "\n",
       "        delta  \n",
       "0    0.000000  \n",
       "1    0.000000  \n",
       "2    0.000000  \n",
       "3    0.000000  \n",
       "4    0.000000  \n",
       "..        ...  \n",
       "158  0.002120  \n",
       "159  0.001838  \n",
       "160  0.001437  \n",
       "161  0.002712  \n",
       "162  0.000000  \n",
       "\n",
       "[163 rows x 14 columns]"
      ]
     },
     "execution_count": 8,
     "metadata": {},
     "output_type": "execute_result"
    }
   ],
   "source": [
    "# beta , gamma and delta \n",
    "df_mh['beta'] = (df_mh['Delta_C']/df_mh['Infected']) #*( N/(N-df_mh['Confirmed'])) #if more than 1%\n",
    "df_mh['gamma'] = df_mh['Delta_R']/df_mh['Infected']\n",
    "df_mh['delta'] = df_mh['Delta_D']/df_mh['Infected']\n",
    "df_mh"
   ]
  },
  {
   "cell_type": "markdown",
   "metadata": {},
   "source": [
    "# adding r0 and R\n",
    " r0 = β – (γ + δ)   this is  the (per capita) growth rate per day\n",
    " \n",
    "  R0 = β/(γ + δ)    this is the basic reproductive number"
   ]
  },
  {
   "cell_type": "code",
   "execution_count": 9,
   "metadata": {},
   "outputs": [],
   "source": [
    "df_mh['r0'] = df_mh['beta'] - (df_mh['gamma'] + df_mh['delta'])\n",
    "df_mh['R0'] = df_mh['beta'] / (df_mh['gamma'] + df_mh['delta'])\n"
   ]
  },
  {
   "cell_type": "code",
   "execution_count": 10,
   "metadata": {},
   "outputs": [],
   "source": [
    "# replacing infinite values with zero\n",
    "df_mh = df_mh.replace([np.inf, -np.inf], np.nan)\n",
    "df_mh = df_mh.fillna(0)"
   ]
  },
  {
   "cell_type": "code",
   "execution_count": 11,
   "metadata": {},
   "outputs": [
    {
     "data": {
      "text/html": [
       "<div>\n",
       "<style scoped>\n",
       "    .dataframe tbody tr th:only-of-type {\n",
       "        vertical-align: middle;\n",
       "    }\n",
       "\n",
       "    .dataframe tbody tr th {\n",
       "        vertical-align: top;\n",
       "    }\n",
       "\n",
       "    .dataframe thead th {\n",
       "        text-align: right;\n",
       "    }\n",
       "</style>\n",
       "<table border=\"1\" class=\"dataframe\">\n",
       "  <thead>\n",
       "    <tr style=\"text-align: right;\">\n",
       "      <th></th>\n",
       "      <th>Date</th>\n",
       "      <th>State</th>\n",
       "      <th>Confirmed</th>\n",
       "      <th>Recovered</th>\n",
       "      <th>Deceased</th>\n",
       "      <th>Other</th>\n",
       "      <th>Tested</th>\n",
       "      <th>Infected</th>\n",
       "      <th>Delta_C</th>\n",
       "      <th>Delta_D</th>\n",
       "      <th>Delta_R</th>\n",
       "      <th>beta</th>\n",
       "      <th>gamma</th>\n",
       "      <th>delta</th>\n",
       "      <th>r0</th>\n",
       "      <th>R0</th>\n",
       "    </tr>\n",
       "  </thead>\n",
       "  <tbody>\n",
       "    <tr>\n",
       "      <th>0</th>\n",
       "      <td>2020-03-09</td>\n",
       "      <td>Maharashtra</td>\n",
       "      <td>2</td>\n",
       "      <td>0</td>\n",
       "      <td>0</td>\n",
       "      <td>0</td>\n",
       "      <td>0.0</td>\n",
       "      <td>2</td>\n",
       "      <td>3</td>\n",
       "      <td>0</td>\n",
       "      <td>0</td>\n",
       "      <td>1.500000</td>\n",
       "      <td>0.000000</td>\n",
       "      <td>0.000000</td>\n",
       "      <td>1.500000</td>\n",
       "      <td>0.000000</td>\n",
       "    </tr>\n",
       "    <tr>\n",
       "      <th>1</th>\n",
       "      <td>2020-03-10</td>\n",
       "      <td>Maharashtra</td>\n",
       "      <td>5</td>\n",
       "      <td>0</td>\n",
       "      <td>0</td>\n",
       "      <td>0</td>\n",
       "      <td>0.0</td>\n",
       "      <td>5</td>\n",
       "      <td>6</td>\n",
       "      <td>0</td>\n",
       "      <td>0</td>\n",
       "      <td>1.200000</td>\n",
       "      <td>0.000000</td>\n",
       "      <td>0.000000</td>\n",
       "      <td>1.200000</td>\n",
       "      <td>0.000000</td>\n",
       "    </tr>\n",
       "    <tr>\n",
       "      <th>2</th>\n",
       "      <td>2020-03-11</td>\n",
       "      <td>Maharashtra</td>\n",
       "      <td>11</td>\n",
       "      <td>0</td>\n",
       "      <td>0</td>\n",
       "      <td>0</td>\n",
       "      <td>0.0</td>\n",
       "      <td>11</td>\n",
       "      <td>3</td>\n",
       "      <td>0</td>\n",
       "      <td>0</td>\n",
       "      <td>0.272727</td>\n",
       "      <td>0.000000</td>\n",
       "      <td>0.000000</td>\n",
       "      <td>0.272727</td>\n",
       "      <td>0.000000</td>\n",
       "    </tr>\n",
       "    <tr>\n",
       "      <th>3</th>\n",
       "      <td>2020-03-12</td>\n",
       "      <td>Maharashtra</td>\n",
       "      <td>14</td>\n",
       "      <td>0</td>\n",
       "      <td>0</td>\n",
       "      <td>0</td>\n",
       "      <td>0.0</td>\n",
       "      <td>14</td>\n",
       "      <td>3</td>\n",
       "      <td>0</td>\n",
       "      <td>0</td>\n",
       "      <td>0.214286</td>\n",
       "      <td>0.000000</td>\n",
       "      <td>0.000000</td>\n",
       "      <td>0.214286</td>\n",
       "      <td>0.000000</td>\n",
       "    </tr>\n",
       "    <tr>\n",
       "      <th>4</th>\n",
       "      <td>2020-03-13</td>\n",
       "      <td>Maharashtra</td>\n",
       "      <td>17</td>\n",
       "      <td>0</td>\n",
       "      <td>0</td>\n",
       "      <td>0</td>\n",
       "      <td>0.0</td>\n",
       "      <td>17</td>\n",
       "      <td>9</td>\n",
       "      <td>0</td>\n",
       "      <td>0</td>\n",
       "      <td>0.529412</td>\n",
       "      <td>0.000000</td>\n",
       "      <td>0.000000</td>\n",
       "      <td>0.529412</td>\n",
       "      <td>0.000000</td>\n",
       "    </tr>\n",
       "    <tr>\n",
       "      <th>...</th>\n",
       "      <td>...</td>\n",
       "      <td>...</td>\n",
       "      <td>...</td>\n",
       "      <td>...</td>\n",
       "      <td>...</td>\n",
       "      <td>...</td>\n",
       "      <td>...</td>\n",
       "      <td>...</td>\n",
       "      <td>...</td>\n",
       "      <td>...</td>\n",
       "      <td>...</td>\n",
       "      <td>...</td>\n",
       "      <td>...</td>\n",
       "      <td>...</td>\n",
       "      <td>...</td>\n",
       "      <td>...</td>\n",
       "    </tr>\n",
       "    <tr>\n",
       "      <th>158</th>\n",
       "      <td>2020-08-14</td>\n",
       "      <td>Maharashtra</td>\n",
       "      <td>572734</td>\n",
       "      <td>401442</td>\n",
       "      <td>19427</td>\n",
       "      <td>310</td>\n",
       "      <td>3049468.0</td>\n",
       "      <td>151865</td>\n",
       "      <td>12020</td>\n",
       "      <td>322</td>\n",
       "      <td>6844</td>\n",
       "      <td>0.079149</td>\n",
       "      <td>0.045066</td>\n",
       "      <td>0.002120</td>\n",
       "      <td>0.031963</td>\n",
       "      <td>1.677365</td>\n",
       "    </tr>\n",
       "    <tr>\n",
       "      <th>159</th>\n",
       "      <td>2020-08-15</td>\n",
       "      <td>Maharashtra</td>\n",
       "      <td>584754</td>\n",
       "      <td>408286</td>\n",
       "      <td>19749</td>\n",
       "      <td>310</td>\n",
       "      <td>3115716.0</td>\n",
       "      <td>156719</td>\n",
       "      <td>11111</td>\n",
       "      <td>288</td>\n",
       "      <td>8837</td>\n",
       "      <td>0.070898</td>\n",
       "      <td>0.056388</td>\n",
       "      <td>0.001838</td>\n",
       "      <td>0.012672</td>\n",
       "      <td>1.217644</td>\n",
       "    </tr>\n",
       "    <tr>\n",
       "      <th>160</th>\n",
       "      <td>2020-08-16</td>\n",
       "      <td>Maharashtra</td>\n",
       "      <td>595865</td>\n",
       "      <td>417123</td>\n",
       "      <td>20037</td>\n",
       "      <td>310</td>\n",
       "      <td>3165550.0</td>\n",
       "      <td>158705</td>\n",
       "      <td>8493</td>\n",
       "      <td>228</td>\n",
       "      <td>11391</td>\n",
       "      <td>0.053514</td>\n",
       "      <td>0.071775</td>\n",
       "      <td>0.001437</td>\n",
       "      <td>-0.019697</td>\n",
       "      <td>0.730958</td>\n",
       "    </tr>\n",
       "    <tr>\n",
       "      <th>161</th>\n",
       "      <td>2020-08-17</td>\n",
       "      <td>Maharashtra</td>\n",
       "      <td>604358</td>\n",
       "      <td>428514</td>\n",
       "      <td>20265</td>\n",
       "      <td>311</td>\n",
       "      <td>3208735.0</td>\n",
       "      <td>155579</td>\n",
       "      <td>11119</td>\n",
       "      <td>422</td>\n",
       "      <td>9356</td>\n",
       "      <td>0.071469</td>\n",
       "      <td>0.060137</td>\n",
       "      <td>0.002712</td>\n",
       "      <td>0.008619</td>\n",
       "      <td>1.137145</td>\n",
       "    </tr>\n",
       "    <tr>\n",
       "      <th>162</th>\n",
       "      <td>2020-08-18</td>\n",
       "      <td>Maharashtra</td>\n",
       "      <td>615477</td>\n",
       "      <td>437870</td>\n",
       "      <td>20687</td>\n",
       "      <td>312</td>\n",
       "      <td>3267625.0</td>\n",
       "      <td>156920</td>\n",
       "      <td>0</td>\n",
       "      <td>0</td>\n",
       "      <td>0</td>\n",
       "      <td>0.000000</td>\n",
       "      <td>0.000000</td>\n",
       "      <td>0.000000</td>\n",
       "      <td>0.000000</td>\n",
       "      <td>0.000000</td>\n",
       "    </tr>\n",
       "  </tbody>\n",
       "</table>\n",
       "<p>163 rows × 16 columns</p>\n",
       "</div>"
      ],
      "text/plain": [
       "           Date        State  Confirmed  Recovered  Deceased  Other  \\\n",
       "0    2020-03-09  Maharashtra          2          0         0      0   \n",
       "1    2020-03-10  Maharashtra          5          0         0      0   \n",
       "2    2020-03-11  Maharashtra         11          0         0      0   \n",
       "3    2020-03-12  Maharashtra         14          0         0      0   \n",
       "4    2020-03-13  Maharashtra         17          0         0      0   \n",
       "..          ...          ...        ...        ...       ...    ...   \n",
       "158  2020-08-14  Maharashtra     572734     401442     19427    310   \n",
       "159  2020-08-15  Maharashtra     584754     408286     19749    310   \n",
       "160  2020-08-16  Maharashtra     595865     417123     20037    310   \n",
       "161  2020-08-17  Maharashtra     604358     428514     20265    311   \n",
       "162  2020-08-18  Maharashtra     615477     437870     20687    312   \n",
       "\n",
       "        Tested  Infected  Delta_C  Delta_D  Delta_R      beta     gamma  \\\n",
       "0          0.0         2        3        0        0  1.500000  0.000000   \n",
       "1          0.0         5        6        0        0  1.200000  0.000000   \n",
       "2          0.0        11        3        0        0  0.272727  0.000000   \n",
       "3          0.0        14        3        0        0  0.214286  0.000000   \n",
       "4          0.0        17        9        0        0  0.529412  0.000000   \n",
       "..         ...       ...      ...      ...      ...       ...       ...   \n",
       "158  3049468.0    151865    12020      322     6844  0.079149  0.045066   \n",
       "159  3115716.0    156719    11111      288     8837  0.070898  0.056388   \n",
       "160  3165550.0    158705     8493      228    11391  0.053514  0.071775   \n",
       "161  3208735.0    155579    11119      422     9356  0.071469  0.060137   \n",
       "162  3267625.0    156920        0        0        0  0.000000  0.000000   \n",
       "\n",
       "        delta        r0        R0  \n",
       "0    0.000000  1.500000  0.000000  \n",
       "1    0.000000  1.200000  0.000000  \n",
       "2    0.000000  0.272727  0.000000  \n",
       "3    0.000000  0.214286  0.000000  \n",
       "4    0.000000  0.529412  0.000000  \n",
       "..        ...       ...       ...  \n",
       "158  0.002120  0.031963  1.677365  \n",
       "159  0.001838  0.012672  1.217644  \n",
       "160  0.001437 -0.019697  0.730958  \n",
       "161  0.002712  0.008619  1.137145  \n",
       "162  0.000000  0.000000  0.000000  \n",
       "\n",
       "[163 rows x 16 columns]"
      ]
     },
     "execution_count": 11,
     "metadata": {},
     "output_type": "execute_result"
    }
   ],
   "source": [
    "df_mh"
   ]
  },
  {
   "cell_type": "markdown",
   "metadata": {},
   "source": [
    "# Smoothing beta gamma and delta.\n",
    "\n",
    "beta and delta with a fraction of 0.1\n",
    "gamma with fraction of 0.2\n",
    "\n",
    "\n",
    "The LOWESS fraction controls the smoothness of the curve. For example, if it is 1.0, then the LOWESS curve is a single straight line. In general, the smaller the fraction, the more that LOWESS curve follows individual data points."
   ]
  },
  {
   "cell_type": "code",
   "execution_count": 20,
   "metadata": {},
   "outputs": [],
   "source": [
    "#this is our smoothing Function\n",
    "from statsmodels.nonparametric.smoothers_lowess import lowess\n",
    "def smooth(df,col,fraction):\n",
    "\n",
    "    df_lowess = pd.DataFrame(lowess(df[col],\n",
    "                                 np.arange(len(df[col])), \n",
    "                                 frac=fraction)[:, 1], index=df.index, \n",
    "                                  columns=[col])\n",
    "    return df_lowess"
   ]
  },
  {
   "cell_type": "markdown",
   "metadata": {},
   "source": [
    "we smooth the data only after C(t) exceeds 100 cases and use a constant for the period before, set equal to the first smoothed estimate. \n",
    "\n",
    "For this we look at our data and find out when the cases exceed 100,\n",
    "\n",
    "from that point in time onwards we smooth delta,beta and gamma\n",
    "\n",
    "The points before when Confirmed > 100,are all set to the first smoothed estimate"
   ]
  },
  {
   "cell_type": "code",
   "execution_count": 26,
   "metadata": {},
   "outputs": [],
   "source": [
    "df_sm = df_mh.drop(list(range(15)))\n",
    "df_smooth = smooth(df_sm,'beta',0.1)\n",
    "df_smooth['gamma'] = smooth(df_sm,'gamma',0.2)\n",
    "df_smooth['delta'] = smooth(df_sm,'delta',0.1)\n"
   ]
  },
  {
   "cell_type": "code",
   "execution_count": 27,
   "metadata": {},
   "outputs": [],
   "source": [
    "# the cases cross 100 at 2020-03-24 the index 15 in our table\n",
    "# before that all values are equal to the first smoothed estimate\n",
    "for i in range(-1,-16,-1):\n",
    "    df_smooth.loc[i] = [0.150157,-0.000259 ,0.000127]\n",
    "    \n",
    "df_smooth.index = df_smooth.index + 15  # shifting index\n",
    "df_smooth = df_smooth.sort_index()    \n",
    "df_smooth = df_smooth.reset_index()\n",
    "df_smooth = df_smooth.drop('index',axis=1)"
   ]
  },
  {
   "cell_type": "code",
   "execution_count": 29,
   "metadata": {},
   "outputs": [
    {
     "data": {
      "text/html": [
       "<div>\n",
       "<style scoped>\n",
       "    .dataframe tbody tr th:only-of-type {\n",
       "        vertical-align: middle;\n",
       "    }\n",
       "\n",
       "    .dataframe tbody tr th {\n",
       "        vertical-align: top;\n",
       "    }\n",
       "\n",
       "    .dataframe thead th {\n",
       "        text-align: right;\n",
       "    }\n",
       "</style>\n",
       "<table border=\"1\" class=\"dataframe\">\n",
       "  <thead>\n",
       "    <tr style=\"text-align: right;\">\n",
       "      <th></th>\n",
       "      <th>beta</th>\n",
       "      <th>gamma</th>\n",
       "      <th>delta</th>\n",
       "      <th>r0</th>\n",
       "    </tr>\n",
       "  </thead>\n",
       "  <tbody>\n",
       "    <tr>\n",
       "      <th>0</th>\n",
       "      <td>0.150157</td>\n",
       "      <td>-0.000259</td>\n",
       "      <td>0.000127</td>\n",
       "      <td>0.150289</td>\n",
       "    </tr>\n",
       "    <tr>\n",
       "      <th>1</th>\n",
       "      <td>0.150157</td>\n",
       "      <td>-0.000259</td>\n",
       "      <td>0.000127</td>\n",
       "      <td>0.150289</td>\n",
       "    </tr>\n",
       "    <tr>\n",
       "      <th>2</th>\n",
       "      <td>0.150157</td>\n",
       "      <td>-0.000259</td>\n",
       "      <td>0.000127</td>\n",
       "      <td>0.150289</td>\n",
       "    </tr>\n",
       "    <tr>\n",
       "      <th>3</th>\n",
       "      <td>0.150157</td>\n",
       "      <td>-0.000259</td>\n",
       "      <td>0.000127</td>\n",
       "      <td>0.150289</td>\n",
       "    </tr>\n",
       "    <tr>\n",
       "      <th>4</th>\n",
       "      <td>0.150157</td>\n",
       "      <td>-0.000259</td>\n",
       "      <td>0.000127</td>\n",
       "      <td>0.150289</td>\n",
       "    </tr>\n",
       "    <tr>\n",
       "      <th>...</th>\n",
       "      <td>...</td>\n",
       "      <td>...</td>\n",
       "      <td>...</td>\n",
       "      <td>...</td>\n",
       "    </tr>\n",
       "    <tr>\n",
       "      <th>158</th>\n",
       "      <td>0.073554</td>\n",
       "      <td>0.065300</td>\n",
       "      <td>0.002048</td>\n",
       "      <td>0.006206</td>\n",
       "    </tr>\n",
       "    <tr>\n",
       "      <th>159</th>\n",
       "      <td>0.071939</td>\n",
       "      <td>0.065129</td>\n",
       "      <td>0.001980</td>\n",
       "      <td>0.004830</td>\n",
       "    </tr>\n",
       "    <tr>\n",
       "      <th>160</th>\n",
       "      <td>0.070153</td>\n",
       "      <td>0.064928</td>\n",
       "      <td>0.001905</td>\n",
       "      <td>0.003320</td>\n",
       "    </tr>\n",
       "    <tr>\n",
       "      <th>161</th>\n",
       "      <td>0.068173</td>\n",
       "      <td>0.064701</td>\n",
       "      <td>0.001822</td>\n",
       "      <td>0.001650</td>\n",
       "    </tr>\n",
       "    <tr>\n",
       "      <th>162</th>\n",
       "      <td>0.066053</td>\n",
       "      <td>0.064450</td>\n",
       "      <td>0.001734</td>\n",
       "      <td>-0.000131</td>\n",
       "    </tr>\n",
       "  </tbody>\n",
       "</table>\n",
       "<p>163 rows × 4 columns</p>\n",
       "</div>"
      ],
      "text/plain": [
       "         beta     gamma     delta        r0\n",
       "0    0.150157 -0.000259  0.000127  0.150289\n",
       "1    0.150157 -0.000259  0.000127  0.150289\n",
       "2    0.150157 -0.000259  0.000127  0.150289\n",
       "3    0.150157 -0.000259  0.000127  0.150289\n",
       "4    0.150157 -0.000259  0.000127  0.150289\n",
       "..        ...       ...       ...       ...\n",
       "158  0.073554  0.065300  0.002048  0.006206\n",
       "159  0.071939  0.065129  0.001980  0.004830\n",
       "160  0.070153  0.064928  0.001905  0.003320\n",
       "161  0.068173  0.064701  0.001822  0.001650\n",
       "162  0.066053  0.064450  0.001734 -0.000131\n",
       "\n",
       "[163 rows x 4 columns]"
      ]
     },
     "execution_count": 29,
     "metadata": {},
     "output_type": "execute_result"
    }
   ],
   "source": [
    "df_smooth['r0'] = df_smooth['beta'] - df_smooth['delta'] - df_smooth['gamma']\n",
    "df_smooth"
   ]
  },
  {
   "cell_type": "markdown",
   "metadata": {},
   "source": [
    "# The equations on which our model is defined\n",
    "\n",
    "S(t+1) = S – βSI/N\n",
    "\n",
    "I(t+1) = I + βSI/N – γI – δI\n",
    "\n",
    "R(t+1) = R + γI\n",
    "\n",
    "D(t+1) = D + δI\n"
   ]
  },
  {
   "cell_type": "code",
   "execution_count": 62,
   "metadata": {},
   "outputs": [],
   "source": [
    "#defined model of SIRD\n",
    "def SIRD(S,I,R,D,df_smooth):\n",
    "    s_ , i_ , r_ , d_ = [],[],[],[]\n",
    "    for i in range(len(df_smooth)):\n",
    "        S = S - (df_smooth.loc[i]['beta']*S*I)/N\n",
    "        I = I + ((df_smooth.loc[i]['beta']*S*I)/N) \\\n",
    "             - df_smooth.loc[i]['gamma']*I - df_smooth.loc[i]['delta']*I\n",
    "        R = R + df_smooth.loc[i]['gamma']*I\n",
    "        D = D + df_smooth.loc[i]['delta']*I\n",
    "        s_.append(S)\n",
    "        i_.append(I)\n",
    "        r_.append(R)\n",
    "        d_.append(D)\n",
    "    df = pd.DataFrame(columns=['Susceptible','Confirmed','Infected','Recovered','Deceased'])\n",
    "    df['Susceptible'] = s_\n",
    "    df['Infected']    = i_\n",
    "    df['Recovered']   = r_\n",
    "    df['Deceased']    = d_\n",
    "    df['Confirmed']   = df['Infected'] + df['Recovered'] + df['Deceased']\n",
    "    \n",
    "    return df\n",
    "    \n",
    "    "
   ]
  },
  {
   "cell_type": "markdown",
   "metadata": {},
   "source": [
    "# Defining initial values for our SIRD model\n",
    "## S(0) = N ,D(0)=R(0)=0\n",
    "##  C = I + R + D\n",
    "\n",
    "\n",
    "For I(0) , we take mean of total cases before cases were more than 100\n"
   ]
  },
  {
   "cell_type": "code",
   "execution_count": 70,
   "metadata": {},
   "outputs": [],
   "source": [
    "S = N\n",
    "I = 11#df_mh.iloc[list(range(16))]['Infected'].sum() / 15\n",
    "R = 0\n",
    "D = 0"
   ]
  },
  {
   "cell_type": "code",
   "execution_count": 71,
   "metadata": {},
   "outputs": [
    {
     "data": {
      "text/plain": [
       "(112374333, 11, 0, 0)"
      ]
     },
     "execution_count": 71,
     "metadata": {},
     "output_type": "execute_result"
    }
   ],
   "source": [
    "S,I,R,D"
   ]
  },
  {
   "cell_type": "code",
   "execution_count": 72,
   "metadata": {},
   "outputs": [],
   "source": [
    "df_pred = SIRD(S,I,R,D,df_smooth)"
   ]
  },
  {
   "cell_type": "code",
   "execution_count": 73,
   "metadata": {},
   "outputs": [
    {
     "data": {
      "text/plain": [
       "629951.6482652578"
      ]
     },
     "execution_count": 73,
     "metadata": {},
     "output_type": "execute_result"
    }
   ],
   "source": [
    "df_pred['Confirmed'][162]"
   ]
  },
  {
   "cell_type": "markdown",
   "metadata": {},
   "source": [
    "# predR² = 1 – Σ(Y – X)2 / Σ[X – mean(X)]2\n",
    "\n",
    "we use numer = Σ(Y – X)2 and denom = Σ[X – mean(X)]2\n",
    "\n"
   ]
  },
  {
   "cell_type": "code",
   "execution_count": 74,
   "metadata": {},
   "outputs": [],
   "source": [
    "def PredR_sq(df_pred,df_orig,col):\n",
    "    '''col represents the column on which predR_squared will be applied'''\n",
    "    \n",
    "    n = (df_pred[col] - df_orig[col])**2 \n",
    "    numer = n.sum()\n",
    "    mean_x = df_orig[col].mean()\n",
    "    d = (df_orig[col] - mean_x)**2\n",
    "    denom = d.sum()\n",
    "    pred_rsq = 1 - (numer/denom)\n",
    "    \n",
    "    return pred_rsq"
   ]
  },
  {
   "cell_type": "code",
   "execution_count": 75,
   "metadata": {},
   "outputs": [
    {
     "name": "stdout",
     "output_type": "stream",
     "text": [
      "0.995427556069006\n"
     ]
    }
   ],
   "source": [
    "print(PredR_sq(df_pred,df_mh,'Confirmed'))"
   ]
  },
  {
   "cell_type": "markdown",
   "metadata": {},
   "source": [
    "# Plots\n",
    "\n",
    "predicted vs Original \n",
    "\n",
    "Scattered are the original datapoints\n",
    "\n",
    "Curves or lines are the predicted datapoints"
   ]
  },
  {
   "cell_type": "code",
   "execution_count": 76,
   "metadata": {},
   "outputs": [
    {
     "data": {
      "image/png": "[encoded data removed]",
      "text/plain": [
       "<Figure size 432x288 with 1 Axes>"
      ]
     },
     "metadata": {
      "needs_background": "light"
     },
     "output_type": "display_data"
    }
   ],
   "source": [
    "#infected\n",
    "fig = plt.figure()\n",
    "ax = fig.add_axes([0,0,1,1])\n",
    "\n",
    "ax.scatter(df_mh['Date'],df_mh['Infected'],s=5)\n",
    "ax.plot(df_mh['Date'],df_pred['Infected'],linewidth=3)\n",
    "ax.set_xticks([0,40,80,120,160])\n",
    "ax.set_title('Infected')\n",
    "# plt.savefig('Infected.jpg',bbox_inches='tight') #uncomment if want to save the graph as image\n",
    "plt.show()\n"
   ]
  },
  {
   "cell_type": "code",
   "execution_count": 77,
   "metadata": {},
   "outputs": [
    {
     "data": {
      "image/png": "[encoded data removed]",
      "text/plain": [
       "<Figure size 432x288 with 1 Axes>"
      ]
     },
     "metadata": {
      "needs_background": "light"
     },
     "output_type": "display_data"
    }
   ],
   "source": [
    "#Deceased\n",
    "fig = plt.figure()\n",
    "ax = fig.add_axes([0,0,1,1])\n",
    "\n",
    "ax.scatter(df_mh['Date'],df_mh['Deceased'],s=5)\n",
    "ax.plot(df_mh['Date'],df_pred['Deceased'],linewidth=3)\n",
    "ax.set_xticks([0,40,80,120,160])\n",
    "ax.set_title('Deceased')\n",
    "#plt.savefig('Deceased.jpg',bbox_inches='tight') #uncomment if want to save the graph as image\n",
    "plt.show()\n"
   ]
  },
  {
   "cell_type": "code",
   "execution_count": 78,
   "metadata": {},
   "outputs": [
    {
     "data": {
      "image/png": "[encoded data removed]",
      "text/plain": [
       "<Figure size 432x288 with 1 Axes>"
      ]
     },
     "metadata": {
      "needs_background": "light"
     },
     "output_type": "display_data"
    }
   ],
   "source": [
    "#Recovered\n",
    "fig = plt.figure()\n",
    "ax = fig.add_axes([0,0,1,1])\n",
    "\n",
    "ax.scatter(df_mh['Date'],df_mh['Recovered'],s=5)\n",
    "ax.plot(df_mh['Date'],df_pred['Recovered'],linewidth=3)\n",
    "ax.set_xticks([0,40,80,120,160])\n",
    "ax.set_title('Recovered')\n",
    "#plt.savefig('Recovered.jpg',bbox_inches='tight') #uncomment if want to save the graph as image\n",
    "plt.show()"
   ]
  },
  {
   "cell_type": "code",
   "execution_count": 79,
   "metadata": {},
   "outputs": [
    {
     "data": {
      "image/png": "[encoded data removed]",
      "text/plain": [
       "<Figure size 432x288 with 1 Axes>"
      ]
     },
     "metadata": {
      "needs_background": "light"
     },
     "output_type": "display_data"
    }
   ],
   "source": [
    "#New Cases deltaC\n",
    "fig = plt.figure()\n",
    "ax = fig.add_axes([0,0,1,1])\n",
    "\n",
    "ax.scatter(df_mh['Date'],df_mh['Delta_C'],s=5)\n",
    "ax.plot(df_mh['Date'],df_pred['Confirmed'].diff(),linewidth=3)\n",
    "ax.set_xticks([0,40,80,120,160])\n",
    "ax.set_title('New Cases')\n",
    "#plt.savefig('New Cases.jpg',bbox_inches='tight') #uncomment if want to save the graph as image\n",
    "plt.show()"
   ]
  },
  {
   "cell_type": "code",
   "execution_count": 80,
   "metadata": {},
   "outputs": [
    {
     "data": {
      "image/png": "[encoded data removed]",
      "text/plain": [
       "<Figure size 432x288 with 1 Axes>"
      ]
     },
     "metadata": {
      "needs_background": "light"
     },
     "output_type": "display_data"
    }
   ],
   "source": [
    "#Daily deaths delta_D\n",
    "fig = plt.figure()\n",
    "ax = fig.add_axes([0,0,1,1])\n",
    "\n",
    "ax.scatter(df_mh['Date'],df_mh['Delta_D'],s=5)\n",
    "ax.plot(df_mh['Date'],df_pred['Deceased'].diff(),linewidth=3)\n",
    "ax.set_xticks([0,40,80,120,160])\n",
    "ax.set_title('Daily Deaths')\n",
    "#plt.savefig('Daily Deaths.jpg',bbox_inches='tight') #uncomment if want to save the graph as image\n",
    "plt.show()\n"
   ]
  },
  {
   "cell_type": "code",
   "execution_count": 81,
   "metadata": {},
   "outputs": [
    {
     "data": {
      "image/png": "[encoded data removed]",
      "text/plain": [
       "<Figure size 432x288 with 1 Axes>"
      ]
     },
     "metadata": {
      "needs_background": "light"
     },
     "output_type": "display_data"
    }
   ],
   "source": [
    "#Confirmed\n",
    "fig = plt.figure()\n",
    "ax = fig.add_axes([0,0,1,1])\n",
    "\n",
    "ax.scatter(df_mh['Date'],df_mh['Confirmed'],s=5)\n",
    "ax.plot(df_mh['Date'],df_pred['Confirmed'],linewidth=3)\n",
    "ax.set_xticks([0,40,80,120,160])\n",
    "ax.set_title('Confirmed')\n",
    "#plt.savefig('Confirmed.jpg',bbox_inches='tight') #uncomment if want to save the graph as image\n",
    "plt.show()\n"
   ]
  },
  {
   "cell_type": "code",
   "execution_count": 93,
   "metadata": {},
   "outputs": [
    {
     "data": {
      "image/png": "[encoded data removed]",
      "text/plain": [
       "<Figure size 432x288 with 1 Axes>"
      ]
     },
     "metadata": {
      "needs_background": "light"
     },
     "output_type": "display_data"
    }
   ],
   "source": [
    "#beta\n",
    "fig = plt.figure()\n",
    "ax = fig.add_axes([0,0,1,1])\n",
    "\n",
    "\n",
    "ax.scatter(df_mh['Date'],df_mh['beta'],s=8,c='g')\n",
    "ax.plot(df_mh['Date'],df_smooth['beta'],linewidth=2,c='g')\n",
    "ax.set_xticks([0,40,80,120,160])\n",
    "ax.set_title('Beta(t)')\n",
    "#plt.savefig('Beta.png',bbox_inches='tight') #uncomment if want to save the graph as image\n",
    "plt.show()\n"
   ]
  },
  {
   "cell_type": "code",
   "execution_count": 92,
   "metadata": {},
   "outputs": [
    {
     "data": {
      "image/png": "[encoded data removed]",
      "text/plain": [
       "<Figure size 432x288 with 1 Axes>"
      ]
     },
     "metadata": {
      "needs_background": "light"
     },
     "output_type": "display_data"
    }
   ],
   "source": [
    "#Delta\n",
    "fig = plt.figure()\n",
    "ax = fig.add_axes([0,0,1,1])\n",
    "\n",
    "\n",
    "ax.scatter(df_mh['Date'],df_mh['delta'],s=8,c='g')\n",
    "ax.plot(df_mh['Date'],df_smooth['delta'],linewidth=2,c='g')\n",
    "ax.set_xticks([0,40,80,120,160])\n",
    "ax.set_title('Delta(t)')\n",
    "#plt.savefig('Delta.jpg',bbox_inches='tight')#uncomment if want to save the graph as image\n",
    "plt.show()\n"
   ]
  },
  {
   "cell_type": "code",
   "execution_count": 91,
   "metadata": {},
   "outputs": [
    {
     "data": {
      "image/png": "[encoded data removed]",
      "text/plain": [
       "<Figure size 432x288 with 1 Axes>"
      ]
     },
     "metadata": {
      "needs_background": "light"
     },
     "output_type": "display_data"
    }
   ],
   "source": [
    "#Delta\n",
    "fig = plt.figure()\n",
    "ax = fig.add_axes([0,0,1,1])\n",
    "\n",
    "ax.plot(df_mh['Date'],[0]*163,'--g')\n",
    "ax.plot(df_mh['Date'],df_smooth['r0'],linewidth=2,c='g')\n",
    "ax.set_xticks([0,40,80,120,160])\n",
    "ax.set_title('r0')\n",
    "#plt.savefig('r0.jpg',bbox_inches='tight') #uncomment if want to save the graph as image\n",
    "plt.show()"
   ]
  },
  {
   "cell_type": "code",
   "execution_count": null,
   "metadata": {},
   "outputs": [],
   "source": []
  }
 ],
 "metadata": {
  "kernelspec": {
   "display_name": "Python 3",
   "language": "python",
   "name": "python3"
  },
  "language_info": {
   "codemirror_mode": {
    "name": "ipython",
    "version": 3
   },
   "file_extension": ".py",
   "mimetype": "text/x-python",
   "name": "python",
   "nbconvert_exporter": "python",
   "pygments_lexer": "ipython3",
   "version": "3.7.8"
  }
 },
 "nbformat": 4,
 "nbformat_minor": 4
}
